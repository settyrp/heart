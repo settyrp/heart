{
 "cells": [
  {
   "cell_type": "markdown",
   "id": "fa012277",
   "metadata": {},
   "source": [
    "# Human Heart Disease----Classification model"
   ]
  },
  {
   "cell_type": "markdown",
   "id": "ffb86ba6",
   "metadata": {},
   "source": [
    "# Understanding the problem statement"
   ]
  },
  {
   "cell_type": "raw",
   "id": "35d919c1",
   "metadata": {},
   "source": [
    "Every day, the average human heart beats around 100,000 times, pumping 2,000 gallons of blood through the body. Inside your body there are 60,000 miles of blood vessels.\n",
    "\n",
    "The signs of a woman having a heart attack are much less noticeable than the signs of a male. In women, heart attacks may feel uncomfortable squeezing, pressure, fullness, or pain in the center of the chest. It may also cause pain in one or both arms, the back, neck, jaw or stomach, shortness of breath, nausea and other symptoms. Men experience typical symptoms of heart attack, such as chest pain , discomfort, and stress. They may also experience pain in other areas, such as arms, neck , back, and jaw, and shortness of breath, sweating, and discomfort that mimics heartburn.\n",
    "\n",
    "It’s a lot of work for an organ which is just like a large fist and weighs between 8 and 12 ounces."
   ]
  },
  {
   "cell_type": "code",
   "execution_count": 1,
   "id": "d4e08fe3",
   "metadata": {},
   "outputs": [],
   "source": [
    "#Dataset source: https://archive.ics.uci.edu/ml/datasets/Heart+Disease"
   ]
  },
  {
   "cell_type": "raw",
   "id": "d5882c7b",
   "metadata": {},
   "source": [
    "Dataset columns:{'age'='age, 'sex'='sex', 'chest_pain_type'= cp, 'resting_blood_pressure' = 'trestbps', 'cholesterol'=' chol', 'fasting_blood_sugar'= 'fbs', 'rest_ecg_type'='restecg', 'max_heart_rate_achieved',\n",
    "       'exercise_induced_angina'='exang', 'st_slope_type'='slope', 'num_major_vessels', 'thalassemia_type'='thal', 'target'\n",
    "\n",
    "age: The person’s age in years\n",
    "sex: The person’s sex (1 = male, 0 = female)\n",
    "cp: chest pain type\n",
    "— Value 0: asymptomatic\n",
    "— Value 1: atypical angina\n",
    "— Value 2: non-anginal pain\n",
    "— Value 3: typical angina\n",
    "trestbps: The person’s resting blood pressure (mm Hg on admission to the hospital)\n",
    "chol: The person’s cholesterol measurement in mg/dl\n",
    "fbs: The person’s fasting blood sugar (> 120 mg/dl, 1 = true; 0 = false)\n",
    "restecg: resting electrocardiographic results\n",
    "— Value 0: showing probable or definite left ventricular hypertrophy by Estes’ criteria\n",
    "— Value 1: normal\n",
    "— Value 2: having ST-T wave abnormality (T wave inversions and/or ST elevation or depression of > 0.05 mV)\n",
    "thalach: The person’s maximum heart rate achieved\n",
    "exang: Exercise induced angina (1 = yes; 0 = no)\n",
    "oldpeak: ST depression induced by exercise relative to rest (‘ST’ relates to positions on the ECG plot. See more here)\n",
    "slope: the slope of the peak exercise ST segment — 0: downsloping; 1: flat; 2: upsloping\n",
    "0: downsloping; 1: flat; 2: upsloping\n",
    "ca: The number of major vessels (0–3)\n",
    "thal: A blood disorder called thalassemia Value 0: NULL (dropped from the dataset previously\n",
    "Value 1: fixed defect (no blood flow in some part of the heart)\n",
    "Value 2: normal blood flow\n",
    "Value 3: reversible defect (a blood flow is observed but it is not normal)\n",
    "target: Heart disease (1 = no, 0= yes)\n"
   ]
  },
  {
   "cell_type": "raw",
   "id": "2f08c417",
   "metadata": {},
   "source": [
    "Context:\n",
    "\n",
    "This is multivariate type of dataset which means providing or involving a variety of separate mathematical or statistical variables, multivariate numerical data analysis. It is composed of 14 attributes which are age, sex, chest pain type, resting blood pressure, serum cholesterol, fasting blood sugar, resting electrocardiographic results, maximum heart rate achieved, exercise induced angina, oldpeak — ST depression induced by exercise relative to rest, the slope of the peak exercise ST segment, number of major vessels and Thalassemia. This database includes 76 attributes, but all published studies relate to the use of a subset of 14 of them. The Cleveland database is the only one used by ML researchers to date. One of the major tasks on this dataset is to predict based on the given attributes of a patient that whether that particular person has a heart disease or not and other is the experimental task to diagnose and find out various insights from this dataset which could help in understanding the problem mor"
   ]
  },
  {
   "cell_type": "markdown",
   "id": "a9b62c6e",
   "metadata": {},
   "source": [
    "__1. IMPORTING LIBRARIES AND READING DATASET__"
   ]
  },
  {
   "cell_type": "code",
   "execution_count": 2,
   "id": "37baa687",
   "metadata": {},
   "outputs": [],
   "source": [
    "import pandas as pd\n",
    "import numpy as np\n",
    "import matplotlib.pyplot as plt\n",
    "import seaborn as sns\n",
    "%matplotlib inline\n",
    "import warnings\n",
    "warnings.filterwarnings(\"ignore\")"
   ]
  },
  {
   "cell_type": "code",
   "execution_count": 3,
   "id": "31d16584",
   "metadata": {},
   "outputs": [
    {
     "name": "stdout",
     "output_type": "stream",
     "text": [
      "HeartDieasePrediction_randomforest.ipynb\r\n",
      "\u001b[31mHeart_Disease_and_Stroke_Classification.ipynb\u001b[m\u001b[m*\r\n",
      "heart.csv\r\n",
      "\u001b[31mstrokeprediction.csv\u001b[m\u001b[m*\r\n"
     ]
    }
   ],
   "source": [
    "ls"
   ]
  },
  {
   "cell_type": "code",
   "execution_count": 4,
   "id": "9b2719bf",
   "metadata": {},
   "outputs": [
    {
     "data": {
      "text/html": [
       "<div>\n",
       "<style scoped>\n",
       "    .dataframe tbody tr th:only-of-type {\n",
       "        vertical-align: middle;\n",
       "    }\n",
       "\n",
       "    .dataframe tbody tr th {\n",
       "        vertical-align: top;\n",
       "    }\n",
       "\n",
       "    .dataframe thead th {\n",
       "        text-align: right;\n",
       "    }\n",
       "</style>\n",
       "<table border=\"1\" class=\"dataframe\">\n",
       "  <thead>\n",
       "    <tr style=\"text-align: right;\">\n",
       "      <th></th>\n",
       "      <th>age</th>\n",
       "      <th>sex</th>\n",
       "      <th>cp</th>\n",
       "      <th>trestbps</th>\n",
       "      <th>chol</th>\n",
       "      <th>fbs</th>\n",
       "      <th>restecg</th>\n",
       "      <th>thalach</th>\n",
       "      <th>exang</th>\n",
       "      <th>oldpeak</th>\n",
       "      <th>slope</th>\n",
       "      <th>ca</th>\n",
       "      <th>thal</th>\n",
       "      <th>target</th>\n",
       "    </tr>\n",
       "  </thead>\n",
       "  <tbody>\n",
       "    <tr>\n",
       "      <th>0</th>\n",
       "      <td>52</td>\n",
       "      <td>1</td>\n",
       "      <td>0</td>\n",
       "      <td>125</td>\n",
       "      <td>212</td>\n",
       "      <td>0</td>\n",
       "      <td>1</td>\n",
       "      <td>168</td>\n",
       "      <td>0</td>\n",
       "      <td>1.0</td>\n",
       "      <td>2</td>\n",
       "      <td>2</td>\n",
       "      <td>3</td>\n",
       "      <td>0</td>\n",
       "    </tr>\n",
       "    <tr>\n",
       "      <th>1</th>\n",
       "      <td>53</td>\n",
       "      <td>1</td>\n",
       "      <td>0</td>\n",
       "      <td>140</td>\n",
       "      <td>203</td>\n",
       "      <td>1</td>\n",
       "      <td>0</td>\n",
       "      <td>155</td>\n",
       "      <td>1</td>\n",
       "      <td>3.1</td>\n",
       "      <td>0</td>\n",
       "      <td>0</td>\n",
       "      <td>3</td>\n",
       "      <td>0</td>\n",
       "    </tr>\n",
       "    <tr>\n",
       "      <th>2</th>\n",
       "      <td>70</td>\n",
       "      <td>1</td>\n",
       "      <td>0</td>\n",
       "      <td>145</td>\n",
       "      <td>174</td>\n",
       "      <td>0</td>\n",
       "      <td>1</td>\n",
       "      <td>125</td>\n",
       "      <td>1</td>\n",
       "      <td>2.6</td>\n",
       "      <td>0</td>\n",
       "      <td>0</td>\n",
       "      <td>3</td>\n",
       "      <td>0</td>\n",
       "    </tr>\n",
       "    <tr>\n",
       "      <th>3</th>\n",
       "      <td>61</td>\n",
       "      <td>1</td>\n",
       "      <td>0</td>\n",
       "      <td>148</td>\n",
       "      <td>203</td>\n",
       "      <td>0</td>\n",
       "      <td>1</td>\n",
       "      <td>161</td>\n",
       "      <td>0</td>\n",
       "      <td>0.0</td>\n",
       "      <td>2</td>\n",
       "      <td>1</td>\n",
       "      <td>3</td>\n",
       "      <td>0</td>\n",
       "    </tr>\n",
       "    <tr>\n",
       "      <th>4</th>\n",
       "      <td>62</td>\n",
       "      <td>0</td>\n",
       "      <td>0</td>\n",
       "      <td>138</td>\n",
       "      <td>294</td>\n",
       "      <td>1</td>\n",
       "      <td>1</td>\n",
       "      <td>106</td>\n",
       "      <td>0</td>\n",
       "      <td>1.9</td>\n",
       "      <td>1</td>\n",
       "      <td>3</td>\n",
       "      <td>2</td>\n",
       "      <td>0</td>\n",
       "    </tr>\n",
       "    <tr>\n",
       "      <th>...</th>\n",
       "      <td>...</td>\n",
       "      <td>...</td>\n",
       "      <td>...</td>\n",
       "      <td>...</td>\n",
       "      <td>...</td>\n",
       "      <td>...</td>\n",
       "      <td>...</td>\n",
       "      <td>...</td>\n",
       "      <td>...</td>\n",
       "      <td>...</td>\n",
       "      <td>...</td>\n",
       "      <td>...</td>\n",
       "      <td>...</td>\n",
       "      <td>...</td>\n",
       "    </tr>\n",
       "    <tr>\n",
       "      <th>1020</th>\n",
       "      <td>59</td>\n",
       "      <td>1</td>\n",
       "      <td>1</td>\n",
       "      <td>140</td>\n",
       "      <td>221</td>\n",
       "      <td>0</td>\n",
       "      <td>1</td>\n",
       "      <td>164</td>\n",
       "      <td>1</td>\n",
       "      <td>0.0</td>\n",
       "      <td>2</td>\n",
       "      <td>0</td>\n",
       "      <td>2</td>\n",
       "      <td>1</td>\n",
       "    </tr>\n",
       "    <tr>\n",
       "      <th>1021</th>\n",
       "      <td>60</td>\n",
       "      <td>1</td>\n",
       "      <td>0</td>\n",
       "      <td>125</td>\n",
       "      <td>258</td>\n",
       "      <td>0</td>\n",
       "      <td>0</td>\n",
       "      <td>141</td>\n",
       "      <td>1</td>\n",
       "      <td>2.8</td>\n",
       "      <td>1</td>\n",
       "      <td>1</td>\n",
       "      <td>3</td>\n",
       "      <td>0</td>\n",
       "    </tr>\n",
       "    <tr>\n",
       "      <th>1022</th>\n",
       "      <td>47</td>\n",
       "      <td>1</td>\n",
       "      <td>0</td>\n",
       "      <td>110</td>\n",
       "      <td>275</td>\n",
       "      <td>0</td>\n",
       "      <td>0</td>\n",
       "      <td>118</td>\n",
       "      <td>1</td>\n",
       "      <td>1.0</td>\n",
       "      <td>1</td>\n",
       "      <td>1</td>\n",
       "      <td>2</td>\n",
       "      <td>0</td>\n",
       "    </tr>\n",
       "    <tr>\n",
       "      <th>1023</th>\n",
       "      <td>50</td>\n",
       "      <td>0</td>\n",
       "      <td>0</td>\n",
       "      <td>110</td>\n",
       "      <td>254</td>\n",
       "      <td>0</td>\n",
       "      <td>0</td>\n",
       "      <td>159</td>\n",
       "      <td>0</td>\n",
       "      <td>0.0</td>\n",
       "      <td>2</td>\n",
       "      <td>0</td>\n",
       "      <td>2</td>\n",
       "      <td>1</td>\n",
       "    </tr>\n",
       "    <tr>\n",
       "      <th>1024</th>\n",
       "      <td>54</td>\n",
       "      <td>1</td>\n",
       "      <td>0</td>\n",
       "      <td>120</td>\n",
       "      <td>188</td>\n",
       "      <td>0</td>\n",
       "      <td>1</td>\n",
       "      <td>113</td>\n",
       "      <td>0</td>\n",
       "      <td>1.4</td>\n",
       "      <td>1</td>\n",
       "      <td>1</td>\n",
       "      <td>3</td>\n",
       "      <td>0</td>\n",
       "    </tr>\n",
       "  </tbody>\n",
       "</table>\n",
       "<p>1025 rows × 14 columns</p>\n",
       "</div>"
      ],
      "text/plain": [
       "      age  sex  cp  trestbps  chol  fbs  restecg  thalach  exang  oldpeak  \\\n",
       "0      52    1   0       125   212    0        1      168      0      1.0   \n",
       "1      53    1   0       140   203    1        0      155      1      3.1   \n",
       "2      70    1   0       145   174    0        1      125      1      2.6   \n",
       "3      61    1   0       148   203    0        1      161      0      0.0   \n",
       "4      62    0   0       138   294    1        1      106      0      1.9   \n",
       "...   ...  ...  ..       ...   ...  ...      ...      ...    ...      ...   \n",
       "1020   59    1   1       140   221    0        1      164      1      0.0   \n",
       "1021   60    1   0       125   258    0        0      141      1      2.8   \n",
       "1022   47    1   0       110   275    0        0      118      1      1.0   \n",
       "1023   50    0   0       110   254    0        0      159      0      0.0   \n",
       "1024   54    1   0       120   188    0        1      113      0      1.4   \n",
       "\n",
       "      slope  ca  thal  target  \n",
       "0         2   2     3       0  \n",
       "1         0   0     3       0  \n",
       "2         0   0     3       0  \n",
       "3         2   1     3       0  \n",
       "4         1   3     2       0  \n",
       "...     ...  ..   ...     ...  \n",
       "1020      2   0     2       1  \n",
       "1021      1   1     3       0  \n",
       "1022      1   1     2       0  \n",
       "1023      2   0     2       1  \n",
       "1024      1   1     3       0  \n",
       "\n",
       "[1025 rows x 14 columns]"
      ]
     },
     "execution_count": 4,
     "metadata": {},
     "output_type": "execute_result"
    }
   ],
   "source": [
    "df=pd.read_csv(\"heart.csv\")\n",
    "df"
   ]
  },
  {
   "cell_type": "markdown",
   "id": "9c9159f5",
   "metadata": {},
   "source": [
    "__2. EXPLORATORY DATA ANALYSIS (EDA) & VISUALIZATION__\n",
    "\n",
    " __Data Description__"
   ]
  },
  {
   "cell_type": "code",
   "execution_count": 5,
   "id": "1ed11ccf",
   "metadata": {},
   "outputs": [
    {
     "name": "stdout",
     "output_type": "stream",
     "text": [
      "<class 'pandas.core.frame.DataFrame'>\n",
      "RangeIndex: 1025 entries, 0 to 1024\n",
      "Data columns (total 14 columns):\n",
      " #   Column    Non-Null Count  Dtype  \n",
      "---  ------    --------------  -----  \n",
      " 0   age       1025 non-null   int64  \n",
      " 1   sex       1025 non-null   int64  \n",
      " 2   cp        1025 non-null   int64  \n",
      " 3   trestbps  1025 non-null   int64  \n",
      " 4   chol      1025 non-null   int64  \n",
      " 5   fbs       1025 non-null   int64  \n",
      " 6   restecg   1025 non-null   int64  \n",
      " 7   thalach   1025 non-null   int64  \n",
      " 8   exang     1025 non-null   int64  \n",
      " 9   oldpeak   1025 non-null   float64\n",
      " 10  slope     1025 non-null   int64  \n",
      " 11  ca        1025 non-null   int64  \n",
      " 12  thal      1025 non-null   int64  \n",
      " 13  target    1025 non-null   int64  \n",
      "dtypes: float64(1), int64(13)\n",
      "memory usage: 112.2 KB\n"
     ]
    }
   ],
   "source": [
    "df.info()"
   ]
  },
  {
   "cell_type": "code",
   "execution_count": 6,
   "id": "dc97de37",
   "metadata": {},
   "outputs": [
    {
     "data": {
      "text/plain": [
       "14350"
      ]
     },
     "execution_count": 6,
     "metadata": {},
     "output_type": "execute_result"
    }
   ],
   "source": [
    "df.size"
   ]
  },
  {
   "cell_type": "code",
   "execution_count": 7,
   "id": "d2dd94c8",
   "metadata": {},
   "outputs": [
    {
     "data": {
      "text/plain": [
       "(1025, 14)"
      ]
     },
     "execution_count": 7,
     "metadata": {},
     "output_type": "execute_result"
    }
   ],
   "source": [
    "df.shape"
   ]
  },
  {
   "cell_type": "code",
   "execution_count": 8,
   "id": "dd2415c3",
   "metadata": {},
   "outputs": [
    {
     "data": {
      "text/plain": [
       "age         0\n",
       "sex         0\n",
       "cp          0\n",
       "trestbps    0\n",
       "chol        0\n",
       "fbs         0\n",
       "restecg     0\n",
       "thalach     0\n",
       "exang       0\n",
       "oldpeak     0\n",
       "slope       0\n",
       "ca          0\n",
       "thal        0\n",
       "target      0\n",
       "dtype: int64"
      ]
     },
     "execution_count": 8,
     "metadata": {},
     "output_type": "execute_result"
    }
   ],
   "source": [
    "df.isnull().sum()"
   ]
  },
  {
   "cell_type": "code",
   "execution_count": 9,
   "id": "cac6abcf",
   "metadata": {},
   "outputs": [
    {
     "data": {
      "text/plain": [
       "Index(['age', 'sex', 'cp', 'trestbps', 'chol', 'fbs', 'restecg', 'thalach',\n",
       "       'exang', 'oldpeak', 'slope', 'ca', 'thal', 'target'],\n",
       "      dtype='object')"
      ]
     },
     "execution_count": 9,
     "metadata": {},
     "output_type": "execute_result"
    }
   ],
   "source": [
    "df.columns"
   ]
  },
  {
   "cell_type": "code",
   "execution_count": 10,
   "id": "6a35e8e7",
   "metadata": {},
   "outputs": [
    {
     "data": {
      "text/html": [
       "<div>\n",
       "<style scoped>\n",
       "    .dataframe tbody tr th:only-of-type {\n",
       "        vertical-align: middle;\n",
       "    }\n",
       "\n",
       "    .dataframe tbody tr th {\n",
       "        vertical-align: top;\n",
       "    }\n",
       "\n",
       "    .dataframe thead th {\n",
       "        text-align: right;\n",
       "    }\n",
       "</style>\n",
       "<table border=\"1\" class=\"dataframe\">\n",
       "  <thead>\n",
       "    <tr style=\"text-align: right;\">\n",
       "      <th></th>\n",
       "      <th>age</th>\n",
       "      <th>sex</th>\n",
       "      <th>cp</th>\n",
       "      <th>trestbps</th>\n",
       "      <th>chol</th>\n",
       "      <th>fbs</th>\n",
       "      <th>restecg</th>\n",
       "      <th>thalach</th>\n",
       "      <th>exang</th>\n",
       "      <th>oldpeak</th>\n",
       "      <th>slope</th>\n",
       "      <th>ca</th>\n",
       "      <th>thal</th>\n",
       "      <th>target</th>\n",
       "    </tr>\n",
       "  </thead>\n",
       "  <tbody>\n",
       "    <tr>\n",
       "      <th>age</th>\n",
       "      <td>1.000000</td>\n",
       "      <td>-0.103240</td>\n",
       "      <td>-0.071966</td>\n",
       "      <td>0.271121</td>\n",
       "      <td>0.219823</td>\n",
       "      <td>0.121243</td>\n",
       "      <td>-0.132696</td>\n",
       "      <td>-0.390227</td>\n",
       "      <td>0.088163</td>\n",
       "      <td>0.208137</td>\n",
       "      <td>-0.169105</td>\n",
       "      <td>0.271551</td>\n",
       "      <td>0.072297</td>\n",
       "      <td>-0.229324</td>\n",
       "    </tr>\n",
       "    <tr>\n",
       "      <th>sex</th>\n",
       "      <td>-0.103240</td>\n",
       "      <td>1.000000</td>\n",
       "      <td>-0.041119</td>\n",
       "      <td>-0.078974</td>\n",
       "      <td>-0.198258</td>\n",
       "      <td>0.027200</td>\n",
       "      <td>-0.055117</td>\n",
       "      <td>-0.049365</td>\n",
       "      <td>0.139157</td>\n",
       "      <td>0.084687</td>\n",
       "      <td>-0.026666</td>\n",
       "      <td>0.111729</td>\n",
       "      <td>0.198424</td>\n",
       "      <td>-0.279501</td>\n",
       "    </tr>\n",
       "    <tr>\n",
       "      <th>cp</th>\n",
       "      <td>-0.071966</td>\n",
       "      <td>-0.041119</td>\n",
       "      <td>1.000000</td>\n",
       "      <td>0.038177</td>\n",
       "      <td>-0.081641</td>\n",
       "      <td>0.079294</td>\n",
       "      <td>0.043581</td>\n",
       "      <td>0.306839</td>\n",
       "      <td>-0.401513</td>\n",
       "      <td>-0.174733</td>\n",
       "      <td>0.131633</td>\n",
       "      <td>-0.176206</td>\n",
       "      <td>-0.163341</td>\n",
       "      <td>0.434854</td>\n",
       "    </tr>\n",
       "    <tr>\n",
       "      <th>trestbps</th>\n",
       "      <td>0.271121</td>\n",
       "      <td>-0.078974</td>\n",
       "      <td>0.038177</td>\n",
       "      <td>1.000000</td>\n",
       "      <td>0.127977</td>\n",
       "      <td>0.181767</td>\n",
       "      <td>-0.123794</td>\n",
       "      <td>-0.039264</td>\n",
       "      <td>0.061197</td>\n",
       "      <td>0.187434</td>\n",
       "      <td>-0.120445</td>\n",
       "      <td>0.104554</td>\n",
       "      <td>0.059276</td>\n",
       "      <td>-0.138772</td>\n",
       "    </tr>\n",
       "    <tr>\n",
       "      <th>chol</th>\n",
       "      <td>0.219823</td>\n",
       "      <td>-0.198258</td>\n",
       "      <td>-0.081641</td>\n",
       "      <td>0.127977</td>\n",
       "      <td>1.000000</td>\n",
       "      <td>0.026917</td>\n",
       "      <td>-0.147410</td>\n",
       "      <td>-0.021772</td>\n",
       "      <td>0.067382</td>\n",
       "      <td>0.064880</td>\n",
       "      <td>-0.014248</td>\n",
       "      <td>0.074259</td>\n",
       "      <td>0.100244</td>\n",
       "      <td>-0.099966</td>\n",
       "    </tr>\n",
       "    <tr>\n",
       "      <th>fbs</th>\n",
       "      <td>0.121243</td>\n",
       "      <td>0.027200</td>\n",
       "      <td>0.079294</td>\n",
       "      <td>0.181767</td>\n",
       "      <td>0.026917</td>\n",
       "      <td>1.000000</td>\n",
       "      <td>-0.104051</td>\n",
       "      <td>-0.008866</td>\n",
       "      <td>0.049261</td>\n",
       "      <td>0.010859</td>\n",
       "      <td>-0.061902</td>\n",
       "      <td>0.137156</td>\n",
       "      <td>-0.042177</td>\n",
       "      <td>-0.041164</td>\n",
       "    </tr>\n",
       "    <tr>\n",
       "      <th>restecg</th>\n",
       "      <td>-0.132696</td>\n",
       "      <td>-0.055117</td>\n",
       "      <td>0.043581</td>\n",
       "      <td>-0.123794</td>\n",
       "      <td>-0.147410</td>\n",
       "      <td>-0.104051</td>\n",
       "      <td>1.000000</td>\n",
       "      <td>0.048411</td>\n",
       "      <td>-0.065606</td>\n",
       "      <td>-0.050114</td>\n",
       "      <td>0.086086</td>\n",
       "      <td>-0.078072</td>\n",
       "      <td>-0.020504</td>\n",
       "      <td>0.134468</td>\n",
       "    </tr>\n",
       "    <tr>\n",
       "      <th>thalach</th>\n",
       "      <td>-0.390227</td>\n",
       "      <td>-0.049365</td>\n",
       "      <td>0.306839</td>\n",
       "      <td>-0.039264</td>\n",
       "      <td>-0.021772</td>\n",
       "      <td>-0.008866</td>\n",
       "      <td>0.048411</td>\n",
       "      <td>1.000000</td>\n",
       "      <td>-0.380281</td>\n",
       "      <td>-0.349796</td>\n",
       "      <td>0.395308</td>\n",
       "      <td>-0.207888</td>\n",
       "      <td>-0.098068</td>\n",
       "      <td>0.422895</td>\n",
       "    </tr>\n",
       "    <tr>\n",
       "      <th>exang</th>\n",
       "      <td>0.088163</td>\n",
       "      <td>0.139157</td>\n",
       "      <td>-0.401513</td>\n",
       "      <td>0.061197</td>\n",
       "      <td>0.067382</td>\n",
       "      <td>0.049261</td>\n",
       "      <td>-0.065606</td>\n",
       "      <td>-0.380281</td>\n",
       "      <td>1.000000</td>\n",
       "      <td>0.310844</td>\n",
       "      <td>-0.267335</td>\n",
       "      <td>0.107849</td>\n",
       "      <td>0.197201</td>\n",
       "      <td>-0.438029</td>\n",
       "    </tr>\n",
       "    <tr>\n",
       "      <th>oldpeak</th>\n",
       "      <td>0.208137</td>\n",
       "      <td>0.084687</td>\n",
       "      <td>-0.174733</td>\n",
       "      <td>0.187434</td>\n",
       "      <td>0.064880</td>\n",
       "      <td>0.010859</td>\n",
       "      <td>-0.050114</td>\n",
       "      <td>-0.349796</td>\n",
       "      <td>0.310844</td>\n",
       "      <td>1.000000</td>\n",
       "      <td>-0.575189</td>\n",
       "      <td>0.221816</td>\n",
       "      <td>0.202672</td>\n",
       "      <td>-0.438441</td>\n",
       "    </tr>\n",
       "    <tr>\n",
       "      <th>slope</th>\n",
       "      <td>-0.169105</td>\n",
       "      <td>-0.026666</td>\n",
       "      <td>0.131633</td>\n",
       "      <td>-0.120445</td>\n",
       "      <td>-0.014248</td>\n",
       "      <td>-0.061902</td>\n",
       "      <td>0.086086</td>\n",
       "      <td>0.395308</td>\n",
       "      <td>-0.267335</td>\n",
       "      <td>-0.575189</td>\n",
       "      <td>1.000000</td>\n",
       "      <td>-0.073440</td>\n",
       "      <td>-0.094090</td>\n",
       "      <td>0.345512</td>\n",
       "    </tr>\n",
       "    <tr>\n",
       "      <th>ca</th>\n",
       "      <td>0.271551</td>\n",
       "      <td>0.111729</td>\n",
       "      <td>-0.176206</td>\n",
       "      <td>0.104554</td>\n",
       "      <td>0.074259</td>\n",
       "      <td>0.137156</td>\n",
       "      <td>-0.078072</td>\n",
       "      <td>-0.207888</td>\n",
       "      <td>0.107849</td>\n",
       "      <td>0.221816</td>\n",
       "      <td>-0.073440</td>\n",
       "      <td>1.000000</td>\n",
       "      <td>0.149014</td>\n",
       "      <td>-0.382085</td>\n",
       "    </tr>\n",
       "    <tr>\n",
       "      <th>thal</th>\n",
       "      <td>0.072297</td>\n",
       "      <td>0.198424</td>\n",
       "      <td>-0.163341</td>\n",
       "      <td>0.059276</td>\n",
       "      <td>0.100244</td>\n",
       "      <td>-0.042177</td>\n",
       "      <td>-0.020504</td>\n",
       "      <td>-0.098068</td>\n",
       "      <td>0.197201</td>\n",
       "      <td>0.202672</td>\n",
       "      <td>-0.094090</td>\n",
       "      <td>0.149014</td>\n",
       "      <td>1.000000</td>\n",
       "      <td>-0.337838</td>\n",
       "    </tr>\n",
       "    <tr>\n",
       "      <th>target</th>\n",
       "      <td>-0.229324</td>\n",
       "      <td>-0.279501</td>\n",
       "      <td>0.434854</td>\n",
       "      <td>-0.138772</td>\n",
       "      <td>-0.099966</td>\n",
       "      <td>-0.041164</td>\n",
       "      <td>0.134468</td>\n",
       "      <td>0.422895</td>\n",
       "      <td>-0.438029</td>\n",
       "      <td>-0.438441</td>\n",
       "      <td>0.345512</td>\n",
       "      <td>-0.382085</td>\n",
       "      <td>-0.337838</td>\n",
       "      <td>1.000000</td>\n",
       "    </tr>\n",
       "  </tbody>\n",
       "</table>\n",
       "</div>"
      ],
      "text/plain": [
       "               age       sex        cp  trestbps      chol       fbs  \\\n",
       "age       1.000000 -0.103240 -0.071966  0.271121  0.219823  0.121243   \n",
       "sex      -0.103240  1.000000 -0.041119 -0.078974 -0.198258  0.027200   \n",
       "cp       -0.071966 -0.041119  1.000000  0.038177 -0.081641  0.079294   \n",
       "trestbps  0.271121 -0.078974  0.038177  1.000000  0.127977  0.181767   \n",
       "chol      0.219823 -0.198258 -0.081641  0.127977  1.000000  0.026917   \n",
       "fbs       0.121243  0.027200  0.079294  0.181767  0.026917  1.000000   \n",
       "restecg  -0.132696 -0.055117  0.043581 -0.123794 -0.147410 -0.104051   \n",
       "thalach  -0.390227 -0.049365  0.306839 -0.039264 -0.021772 -0.008866   \n",
       "exang     0.088163  0.139157 -0.401513  0.061197  0.067382  0.049261   \n",
       "oldpeak   0.208137  0.084687 -0.174733  0.187434  0.064880  0.010859   \n",
       "slope    -0.169105 -0.026666  0.131633 -0.120445 -0.014248 -0.061902   \n",
       "ca        0.271551  0.111729 -0.176206  0.104554  0.074259  0.137156   \n",
       "thal      0.072297  0.198424 -0.163341  0.059276  0.100244 -0.042177   \n",
       "target   -0.229324 -0.279501  0.434854 -0.138772 -0.099966 -0.041164   \n",
       "\n",
       "           restecg   thalach     exang   oldpeak     slope        ca  \\\n",
       "age      -0.132696 -0.390227  0.088163  0.208137 -0.169105  0.271551   \n",
       "sex      -0.055117 -0.049365  0.139157  0.084687 -0.026666  0.111729   \n",
       "cp        0.043581  0.306839 -0.401513 -0.174733  0.131633 -0.176206   \n",
       "trestbps -0.123794 -0.039264  0.061197  0.187434 -0.120445  0.104554   \n",
       "chol     -0.147410 -0.021772  0.067382  0.064880 -0.014248  0.074259   \n",
       "fbs      -0.104051 -0.008866  0.049261  0.010859 -0.061902  0.137156   \n",
       "restecg   1.000000  0.048411 -0.065606 -0.050114  0.086086 -0.078072   \n",
       "thalach   0.048411  1.000000 -0.380281 -0.349796  0.395308 -0.207888   \n",
       "exang    -0.065606 -0.380281  1.000000  0.310844 -0.267335  0.107849   \n",
       "oldpeak  -0.050114 -0.349796  0.310844  1.000000 -0.575189  0.221816   \n",
       "slope     0.086086  0.395308 -0.267335 -0.575189  1.000000 -0.073440   \n",
       "ca       -0.078072 -0.207888  0.107849  0.221816 -0.073440  1.000000   \n",
       "thal     -0.020504 -0.098068  0.197201  0.202672 -0.094090  0.149014   \n",
       "target    0.134468  0.422895 -0.438029 -0.438441  0.345512 -0.382085   \n",
       "\n",
       "              thal    target  \n",
       "age       0.072297 -0.229324  \n",
       "sex       0.198424 -0.279501  \n",
       "cp       -0.163341  0.434854  \n",
       "trestbps  0.059276 -0.138772  \n",
       "chol      0.100244 -0.099966  \n",
       "fbs      -0.042177 -0.041164  \n",
       "restecg  -0.020504  0.134468  \n",
       "thalach  -0.098068  0.422895  \n",
       "exang     0.197201 -0.438029  \n",
       "oldpeak   0.202672 -0.438441  \n",
       "slope    -0.094090  0.345512  \n",
       "ca        0.149014 -0.382085  \n",
       "thal      1.000000 -0.337838  \n",
       "target   -0.337838  1.000000  "
      ]
     },
     "execution_count": 10,
     "metadata": {},
     "output_type": "execute_result"
    }
   ],
   "source": [
    "df.corr()"
   ]
  },
  {
   "cell_type": "code",
   "execution_count": 11,
   "id": "cac11331",
   "metadata": {},
   "outputs": [
    {
     "data": {
      "text/plain": [
       "<AxesSubplot:>"
      ]
     },
     "execution_count": 11,
     "metadata": {},
     "output_type": "execute_result"
    },
    {
     "data": {
      "image/png": "[encoded data removed]",
      "text/plain": [
       "<Figure size 432x288 with 2 Axes>"
      ]
     },
     "metadata": {
      "needs_background": "light"
     },
     "output_type": "display_data"
    }
   ],
   "source": [
    "sns.heatmap(df.corr())"
   ]
  },
  {
   "cell_type": "code",
   "execution_count": 12,
   "id": "25d697a7",
   "metadata": {},
   "outputs": [
    {
     "data": {
      "text/html": [
       "<div>\n",
       "<style scoped>\n",
       "    .dataframe tbody tr th:only-of-type {\n",
       "        vertical-align: middle;\n",
       "    }\n",
       "\n",
       "    .dataframe tbody tr th {\n",
       "        vertical-align: top;\n",
       "    }\n",
       "\n",
       "    .dataframe thead th {\n",
       "        text-align: right;\n",
       "    }\n",
       "</style>\n",
       "<table border=\"1\" class=\"dataframe\">\n",
       "  <thead>\n",
       "    <tr style=\"text-align: right;\">\n",
       "      <th></th>\n",
       "      <th>age</th>\n",
       "      <th>sex</th>\n",
       "      <th>cp</th>\n",
       "      <th>trestbps</th>\n",
       "      <th>chol</th>\n",
       "      <th>fbs</th>\n",
       "      <th>restecg</th>\n",
       "      <th>thalach</th>\n",
       "      <th>exang</th>\n",
       "      <th>oldpeak</th>\n",
       "      <th>slope</th>\n",
       "      <th>ca</th>\n",
       "      <th>thal</th>\n",
       "      <th>target</th>\n",
       "    </tr>\n",
       "  </thead>\n",
       "  <tbody>\n",
       "    <tr>\n",
       "      <th>count</th>\n",
       "      <td>1025.000000</td>\n",
       "      <td>1025.000000</td>\n",
       "      <td>1025.000000</td>\n",
       "      <td>1025.000000</td>\n",
       "      <td>1025.00000</td>\n",
       "      <td>1025.000000</td>\n",
       "      <td>1025.000000</td>\n",
       "      <td>1025.000000</td>\n",
       "      <td>1025.000000</td>\n",
       "      <td>1025.000000</td>\n",
       "      <td>1025.000000</td>\n",
       "      <td>1025.000000</td>\n",
       "      <td>1025.000000</td>\n",
       "      <td>1025.000000</td>\n",
       "    </tr>\n",
       "    <tr>\n",
       "      <th>mean</th>\n",
       "      <td>54.434146</td>\n",
       "      <td>0.695610</td>\n",
       "      <td>0.942439</td>\n",
       "      <td>131.611707</td>\n",
       "      <td>246.00000</td>\n",
       "      <td>0.149268</td>\n",
       "      <td>0.529756</td>\n",
       "      <td>149.114146</td>\n",
       "      <td>0.336585</td>\n",
       "      <td>1.071512</td>\n",
       "      <td>1.385366</td>\n",
       "      <td>0.754146</td>\n",
       "      <td>2.323902</td>\n",
       "      <td>0.513171</td>\n",
       "    </tr>\n",
       "    <tr>\n",
       "      <th>std</th>\n",
       "      <td>9.072290</td>\n",
       "      <td>0.460373</td>\n",
       "      <td>1.029641</td>\n",
       "      <td>17.516718</td>\n",
       "      <td>51.59251</td>\n",
       "      <td>0.356527</td>\n",
       "      <td>0.527878</td>\n",
       "      <td>23.005724</td>\n",
       "      <td>0.472772</td>\n",
       "      <td>1.175053</td>\n",
       "      <td>0.617755</td>\n",
       "      <td>1.030798</td>\n",
       "      <td>0.620660</td>\n",
       "      <td>0.500070</td>\n",
       "    </tr>\n",
       "    <tr>\n",
       "      <th>min</th>\n",
       "      <td>29.000000</td>\n",
       "      <td>0.000000</td>\n",
       "      <td>0.000000</td>\n",
       "      <td>94.000000</td>\n",
       "      <td>126.00000</td>\n",
       "      <td>0.000000</td>\n",
       "      <td>0.000000</td>\n",
       "      <td>71.000000</td>\n",
       "      <td>0.000000</td>\n",
       "      <td>0.000000</td>\n",
       "      <td>0.000000</td>\n",
       "      <td>0.000000</td>\n",
       "      <td>0.000000</td>\n",
       "      <td>0.000000</td>\n",
       "    </tr>\n",
       "    <tr>\n",
       "      <th>25%</th>\n",
       "      <td>48.000000</td>\n",
       "      <td>0.000000</td>\n",
       "      <td>0.000000</td>\n",
       "      <td>120.000000</td>\n",
       "      <td>211.00000</td>\n",
       "      <td>0.000000</td>\n",
       "      <td>0.000000</td>\n",
       "      <td>132.000000</td>\n",
       "      <td>0.000000</td>\n",
       "      <td>0.000000</td>\n",
       "      <td>1.000000</td>\n",
       "      <td>0.000000</td>\n",
       "      <td>2.000000</td>\n",
       "      <td>0.000000</td>\n",
       "    </tr>\n",
       "    <tr>\n",
       "      <th>50%</th>\n",
       "      <td>56.000000</td>\n",
       "      <td>1.000000</td>\n",
       "      <td>1.000000</td>\n",
       "      <td>130.000000</td>\n",
       "      <td>240.00000</td>\n",
       "      <td>0.000000</td>\n",
       "      <td>1.000000</td>\n",
       "      <td>152.000000</td>\n",
       "      <td>0.000000</td>\n",
       "      <td>0.800000</td>\n",
       "      <td>1.000000</td>\n",
       "      <td>0.000000</td>\n",
       "      <td>2.000000</td>\n",
       "      <td>1.000000</td>\n",
       "    </tr>\n",
       "    <tr>\n",
       "      <th>75%</th>\n",
       "      <td>61.000000</td>\n",
       "      <td>1.000000</td>\n",
       "      <td>2.000000</td>\n",
       "      <td>140.000000</td>\n",
       "      <td>275.00000</td>\n",
       "      <td>0.000000</td>\n",
       "      <td>1.000000</td>\n",
       "      <td>166.000000</td>\n",
       "      <td>1.000000</td>\n",
       "      <td>1.800000</td>\n",
       "      <td>2.000000</td>\n",
       "      <td>1.000000</td>\n",
       "      <td>3.000000</td>\n",
       "      <td>1.000000</td>\n",
       "    </tr>\n",
       "    <tr>\n",
       "      <th>max</th>\n",
       "      <td>77.000000</td>\n",
       "      <td>1.000000</td>\n",
       "      <td>3.000000</td>\n",
       "      <td>200.000000</td>\n",
       "      <td>564.00000</td>\n",
       "      <td>1.000000</td>\n",
       "      <td>2.000000</td>\n",
       "      <td>202.000000</td>\n",
       "      <td>1.000000</td>\n",
       "      <td>6.200000</td>\n",
       "      <td>2.000000</td>\n",
       "      <td>4.000000</td>\n",
       "      <td>3.000000</td>\n",
       "      <td>1.000000</td>\n",
       "    </tr>\n",
       "  </tbody>\n",
       "</table>\n",
       "</div>"
      ],
      "text/plain": [
       "               age          sex           cp     trestbps        chol  \\\n",
       "count  1025.000000  1025.000000  1025.000000  1025.000000  1025.00000   \n",
       "mean     54.434146     0.695610     0.942439   131.611707   246.00000   \n",
       "std       9.072290     0.460373     1.029641    17.516718    51.59251   \n",
       "min      29.000000     0.000000     0.000000    94.000000   126.00000   \n",
       "25%      48.000000     0.000000     0.000000   120.000000   211.00000   \n",
       "50%      56.000000     1.000000     1.000000   130.000000   240.00000   \n",
       "75%      61.000000     1.000000     2.000000   140.000000   275.00000   \n",
       "max      77.000000     1.000000     3.000000   200.000000   564.00000   \n",
       "\n",
       "               fbs      restecg      thalach        exang      oldpeak  \\\n",
       "count  1025.000000  1025.000000  1025.000000  1025.000000  1025.000000   \n",
       "mean      0.149268     0.529756   149.114146     0.336585     1.071512   \n",
       "std       0.356527     0.527878    23.005724     0.472772     1.175053   \n",
       "min       0.000000     0.000000    71.000000     0.000000     0.000000   \n",
       "25%       0.000000     0.000000   132.000000     0.000000     0.000000   \n",
       "50%       0.000000     1.000000   152.000000     0.000000     0.800000   \n",
       "75%       0.000000     1.000000   166.000000     1.000000     1.800000   \n",
       "max       1.000000     2.000000   202.000000     1.000000     6.200000   \n",
       "\n",
       "             slope           ca         thal       target  \n",
       "count  1025.000000  1025.000000  1025.000000  1025.000000  \n",
       "mean      1.385366     0.754146     2.323902     0.513171  \n",
       "std       0.617755     1.030798     0.620660     0.500070  \n",
       "min       0.000000     0.000000     0.000000     0.000000  \n",
       "25%       1.000000     0.000000     2.000000     0.000000  \n",
       "50%       1.000000     0.000000     2.000000     1.000000  \n",
       "75%       2.000000     1.000000     3.000000     1.000000  \n",
       "max       2.000000     4.000000     3.000000     1.000000  "
      ]
     },
     "execution_count": 12,
     "metadata": {},
     "output_type": "execute_result"
    }
   ],
   "source": [
    "df.describe()"
   ]
  },
  {
   "cell_type": "code",
   "execution_count": 13,
   "id": "e9a62881",
   "metadata": {},
   "outputs": [
    {
     "data": {
      "text/plain": [
       "1    713\n",
       "0    312\n",
       "Name: sex, dtype: int64"
      ]
     },
     "execution_count": 13,
     "metadata": {},
     "output_type": "execute_result"
    }
   ],
   "source": [
    "df.sex.value_counts()"
   ]
  },
  {
   "cell_type": "code",
   "execution_count": 14,
   "id": "c61faa60",
   "metadata": {
    "scrolled": true
   },
   "outputs": [
    {
     "data": {
      "image/png": "[encoded data removed]",
      "text/plain": [
       "<Figure size 720x360 with 1 Axes>"
      ]
     },
     "metadata": {},
     "output_type": "display_data"
    }
   ],
   "source": [
    "# Check the Distribution of target data\n",
    "sns.set_style('darkgrid')\n",
    "plt.figure(figsize = (10,5))\n",
    "sns.countplot(df['sex'], alpha = 1, palette= ['aquamarine','magenta','mediumblue'])\n",
    "plt.title('SEX')\n",
    "plt.ylabel('Patients')\n",
    "plt.show()"
   ]
  },
  {
   "cell_type": "markdown",
   "id": "93248e7c",
   "metadata": {},
   "source": [
    "THE VALUE OF FEMALE PATIENTS ARE VERY LESS THAN MALE PATIENTS,SO,AS THE DATA IS UNBALANCED"
   ]
  },
  {
   "cell_type": "code",
   "execution_count": 15,
   "id": "f79bb480",
   "metadata": {},
   "outputs": [
    {
     "name": "stdout",
     "output_type": "stream",
     "text": [
      "Age\n",
      "Number of unique data: 41\n",
      "Value Counts\n",
      "58    68\n",
      "57    57\n",
      "54    53\n",
      "59    46\n",
      "52    43\n",
      "51    39\n",
      "56    39\n",
      "62    37\n",
      "60    37\n",
      "44    36\n",
      "64    34\n",
      "41    32\n",
      "63    32\n",
      "67    31\n",
      "61    31\n",
      "55    30\n",
      "65    27\n",
      "43    26\n",
      "42    26\n",
      "53    26\n",
      "66    25\n",
      "45    25\n",
      "48    23\n",
      "46    23\n",
      "50    21\n",
      "47    18\n",
      "49    17\n",
      "35    15\n",
      "39    14\n",
      "70    14\n",
      "68    12\n",
      "38    12\n",
      "71    11\n",
      "40    11\n",
      "69     9\n",
      "37     6\n",
      "34     6\n",
      "29     4\n",
      "76     3\n",
      "77     3\n",
      "74     3\n",
      "Name: age, dtype: int64\n",
      "\n",
      "****************************************************************************************************\n",
      "\n",
      "Sex\n",
      "Number of unique data: 2\n",
      "Value Counts\n",
      "1    713\n",
      "0    312\n",
      "Name: sex, dtype: int64\n",
      "\n",
      "****************************************************************************************************\n",
      "\n",
      "Cp\n",
      "Number of unique data: 4\n",
      "Value Counts\n",
      "0    497\n",
      "2    284\n",
      "1    167\n",
      "3     77\n",
      "Name: cp, dtype: int64\n",
      "\n",
      "****************************************************************************************************\n",
      "\n",
      "Trestbps\n",
      "Number of unique data: 49\n",
      "Value Counts\n",
      "120    128\n",
      "130    123\n",
      "140    107\n",
      "110     64\n",
      "150     55\n",
      "138     45\n",
      "128     39\n",
      "125     38\n",
      "160     36\n",
      "112     30\n",
      "132     28\n",
      "118     24\n",
      "108     21\n",
      "124     20\n",
      "135     20\n",
      "145     17\n",
      "134     17\n",
      "152     17\n",
      "170     15\n",
      "122     14\n",
      "100     14\n",
      "136     11\n",
      "126     10\n",
      "180     10\n",
      "142      9\n",
      "115      9\n",
      "105      9\n",
      "146      8\n",
      "148      7\n",
      "178      7\n",
      "94       7\n",
      "144      6\n",
      "102      6\n",
      "154      4\n",
      "117      4\n",
      "165      4\n",
      "200      4\n",
      "114      4\n",
      "123      4\n",
      "192      3\n",
      "106      3\n",
      "104      3\n",
      "129      3\n",
      "174      3\n",
      "155      3\n",
      "172      3\n",
      "164      3\n",
      "156      3\n",
      "101      3\n",
      "Name: trestbps, dtype: int64\n",
      "\n",
      "****************************************************************************************************\n",
      "\n",
      "Chol\n",
      "Number of unique data: 152\n",
      "Value Counts\n",
      "204    21\n",
      "234    21\n",
      "197    19\n",
      "212    18\n",
      "254    17\n",
      "       ..\n",
      "164     3\n",
      "394     3\n",
      "215     3\n",
      "160     3\n",
      "141     3\n",
      "Name: chol, Length: 152, dtype: int64\n",
      "\n",
      "****************************************************************************************************\n",
      "\n",
      "Fbs\n",
      "Number of unique data: 2\n",
      "Value Counts\n",
      "0    872\n",
      "1    153\n",
      "Name: fbs, dtype: int64\n",
      "\n",
      "****************************************************************************************************\n",
      "\n",
      "Restecg\n",
      "Number of unique data: 3\n",
      "Value Counts\n",
      "1    513\n",
      "0    497\n",
      "2     15\n",
      "Name: restecg, dtype: int64\n",
      "\n",
      "****************************************************************************************************\n",
      "\n",
      "Thalach\n",
      "Number of unique data: 91\n",
      "Value Counts\n",
      "162    35\n",
      "160    31\n",
      "163    29\n",
      "173    28\n",
      "152    28\n",
      "       ..\n",
      "194     3\n",
      "185     3\n",
      "106     3\n",
      "88      3\n",
      "113     3\n",
      "Name: thalach, Length: 91, dtype: int64\n",
      "\n",
      "****************************************************************************************************\n",
      "\n",
      "Exang\n",
      "Number of unique data: 2\n",
      "Value Counts\n",
      "0    680\n",
      "1    345\n",
      "Name: exang, dtype: int64\n",
      "\n",
      "****************************************************************************************************\n",
      "\n",
      "Oldpeak\n",
      "Number of unique data: 40\n",
      "Value Counts\n",
      "0.0    329\n",
      "1.2     58\n",
      "1.0     51\n",
      "0.6     47\n",
      "0.8     44\n",
      "1.4     44\n",
      "1.6     37\n",
      "0.2     37\n",
      "1.8     36\n",
      "2.0     32\n",
      "0.4     30\n",
      "0.1     23\n",
      "2.8     22\n",
      "2.6     21\n",
      "3.0     17\n",
      "1.9     16\n",
      "1.5     16\n",
      "3.6     15\n",
      "0.5     15\n",
      "2.2     14\n",
      "4.0     12\n",
      "2.4     11\n",
      "0.3     10\n",
      "3.4     10\n",
      "0.9     10\n",
      "3.2      8\n",
      "2.5      7\n",
      "2.3      7\n",
      "4.2      6\n",
      "1.1      6\n",
      "4.4      4\n",
      "3.8      4\n",
      "5.6      4\n",
      "3.1      4\n",
      "1.3      3\n",
      "2.9      3\n",
      "2.1      3\n",
      "6.2      3\n",
      "0.7      3\n",
      "3.5      3\n",
      "Name: oldpeak, dtype: int64\n",
      "\n",
      "****************************************************************************************************\n",
      "\n",
      "Slope\n",
      "Number of unique data: 3\n",
      "Value Counts\n",
      "1    482\n",
      "2    469\n",
      "0     74\n",
      "Name: slope, dtype: int64\n",
      "\n",
      "****************************************************************************************************\n",
      "\n",
      "Ca\n",
      "Number of unique data: 5\n",
      "Value Counts\n",
      "0    578\n",
      "1    226\n",
      "2    134\n",
      "3     69\n",
      "4     18\n",
      "Name: ca, dtype: int64\n",
      "\n",
      "****************************************************************************************************\n",
      "\n",
      "Thal\n",
      "Number of unique data: 4\n",
      "Value Counts\n",
      "2    544\n",
      "3    410\n",
      "1     64\n",
      "0      7\n",
      "Name: thal, dtype: int64\n",
      "\n",
      "****************************************************************************************************\n",
      "\n",
      "Target\n",
      "Number of unique data: 2\n",
      "Value Counts\n",
      "1    526\n",
      "0    499\n",
      "Name: target, dtype: int64\n",
      "\n",
      "****************************************************************************************************\n",
      "\n"
     ]
    }
   ],
   "source": [
    "col=['age', 'sex', 'cp', 'trestbps', 'chol', 'fbs', 'restecg', 'thalach',\n",
    "       'exang', 'oldpeak', 'slope', 'ca', 'thal', 'target']\n",
    "for i in col:\n",
    "    \n",
    "    print(i.capitalize())\n",
    "    print('Number of unique data:',df[i].nunique())\n",
    "    print(\"Value Counts\")\n",
    "    print(df[i].value_counts())\n",
    "    print(\"\")\n",
    "    print(\"****************************************************************************************************\")\n",
    "    print(\"\")"
   ]
  },
  {
   "cell_type": "code",
   "execution_count": 16,
   "id": "047f7f72",
   "metadata": {},
   "outputs": [
    {
     "data": {
      "image/png": "[encoded data removed]",
      "text/plain": [
       "<Figure size 1440x1440 with 16 Axes>"
      ]
     },
     "metadata": {},
     "output_type": "display_data"
    }
   ],
   "source": [
    "df.hist(bins=50, figsize=(20,20))\n",
    "plt.show()"
   ]
  },
  {
   "cell_type": "code",
   "execution_count": null,
   "id": "f0fb3b14",
   "metadata": {},
   "outputs": [],
   "source": []
  },
  {
   "cell_type": "code",
   "execution_count": 17,
   "id": "13a98010",
   "metadata": {},
   "outputs": [
    {
     "data": {
      "text/plain": [
       "oldpeak    -0.438441\n",
       "exang      -0.438029\n",
       "ca         -0.382085\n",
       "thal       -0.337838\n",
       "sex        -0.279501\n",
       "age        -0.229324\n",
       "trestbps   -0.138772\n",
       "chol       -0.099966\n",
       "fbs        -0.041164\n",
       "restecg     0.134468\n",
       "slope       0.345512\n",
       "thalach     0.422895\n",
       "cp          0.434854\n",
       "target      1.000000\n",
       "Name: target, dtype: float64"
      ]
     },
     "execution_count": 17,
     "metadata": {},
     "output_type": "execute_result"
    }
   ],
   "source": [
    "df.corr()['target'].sort_values()"
   ]
  },
  {
   "cell_type": "code",
   "execution_count": 18,
   "id": "aca4a77e",
   "metadata": {},
   "outputs": [
    {
     "data": {
      "text/plain": [
       "age           int64\n",
       "sex           int64\n",
       "cp            int64\n",
       "trestbps      int64\n",
       "chol          int64\n",
       "fbs           int64\n",
       "restecg       int64\n",
       "thalach       int64\n",
       "exang         int64\n",
       "oldpeak     float64\n",
       "slope         int64\n",
       "ca            int64\n",
       "thal          int64\n",
       "target        int64\n",
       "dtype: object"
      ]
     },
     "execution_count": 18,
     "metadata": {},
     "output_type": "execute_result"
    }
   ],
   "source": [
    "df.dtypes"
   ]
  },
  {
   "cell_type": "code",
   "execution_count": 19,
   "id": "b34f7d8f",
   "metadata": {},
   "outputs": [
    {
     "data": {
      "text/plain": [
       "age          41\n",
       "sex           2\n",
       "cp            4\n",
       "trestbps     49\n",
       "chol        152\n",
       "fbs           2\n",
       "restecg       3\n",
       "thalach      91\n",
       "exang         2\n",
       "oldpeak      40\n",
       "slope         3\n",
       "ca            5\n",
       "thal          4\n",
       "target        2\n",
       "dtype: int64"
      ]
     },
     "execution_count": 19,
     "metadata": {},
     "output_type": "execute_result"
    }
   ],
   "source": [
    "df.nunique()"
   ]
  },
  {
   "cell_type": "markdown",
   "id": "d03ac2b4",
   "metadata": {},
   "source": [
    "__3.DATA VISUALIZATION__"
   ]
  },
  {
   "cell_type": "code",
   "execution_count": 85,
   "id": "a134e036",
   "metadata": {},
   "outputs": [
    {
     "name": "stdout",
     "output_type": "stream",
     "text": [
      "1    526\n",
      "0    499\n",
      "Name: target, dtype: int64\n"
     ]
    },
    {
     "data": {
      "image/png": "[encoded data removed]",
      "text/plain": [
       "<Figure size 432x432 with 1 Axes>"
      ]
     },
     "metadata": {},
     "output_type": "display_data"
    }
   ],
   "source": [
    "print(df[\"target\"].value_counts())\n",
    "df[\"target\"].value_counts().plot(kind=\"pie\", autopct='%1.1f%%', figsize=(6,6));"
   ]
  },
  {
   "cell_type": "raw",
   "id": "e5897a6d",
   "metadata": {},
   "source": [
    "Percentage of Heart Disease: % 55.34 --> (508 cases for Heart Disease)\n",
    "Percentage of NOT Heart Disease: % 44.66 --> (410 cases for NOT Heart Disease)"
   ]
  },
  {
   "cell_type": "code",
   "execution_count": 21,
   "id": "4c54c747",
   "metadata": {},
   "outputs": [],
   "source": [
    "sns.set_style('darkgrid')\n",
    "sns.set_palette('Set2')"
   ]
  },
  {
   "cell_type": "code",
   "execution_count": 22,
   "id": "84bd5097",
   "metadata": {},
   "outputs": [],
   "source": [
    "#df2 = df.copy()\n",
    "#def chng(sex):\n",
    "#    if sex == 0:\n",
    "#        return 'female'\n",
    "#    else:\n",
    "#        return 'male'\n",
    "#df2['sex'] = df2['sex'].apply(chng)\n",
    "#def chng2(prob):\n",
    "#    if prob == 0:\n",
    "#        return ‘Heart Disease’\n",
    "#    else:\n",
    "#        return ‘No Heart Disease’\n",
    "#df2['target'] = df2['target'].apply(chng2)"
   ]
  },
  {
   "cell_type": "code",
   "execution_count": 23,
   "id": "798c0619",
   "metadata": {},
   "outputs": [
    {
     "data": {
      "text/plain": [
       "Text(0.5, 1.0, 'Chest Pain Type v/s target\\n')"
      ]
     },
     "execution_count": 23,
     "metadata": {},
     "output_type": "execute_result"
    },
    {
     "data": {
      "image/png": "[encoded data removed]",
      "text/plain": [
       "<Figure size 432x288 with 1 Axes>"
      ]
     },
     "metadata": {},
     "output_type": "display_data"
    }
   ],
   "source": [
    "sns.countplot(data= df, x='cp',hue='target')\n",
    "plt.title('Chest Pain Type v/s target\\n')"
   ]
  },
  {
   "cell_type": "code",
   "execution_count": 24,
   "id": "76b07dcc",
   "metadata": {},
   "outputs": [
    {
     "name": "stdout",
     "output_type": "stream",
     "text": [
      "Thalassemia (thal-uh-SEE-me-uh) is an inherited blood disorder that causes your body to have less hemoglobin than normal. Hemoglobin enables red blood cells to carry oxygen\n"
     ]
    },
    {
     "data": {
      "image/png": "[encoded data removed]",
      "text/plain": [
       "<Figure size 432x288 with 1 Axes>"
      ]
     },
     "metadata": {},
     "output_type": "display_data"
    }
   ],
   "source": [
    "sns.countplot(data= df, x='sex',hue='thal')\n",
    "plt.title('Gender v/s Thalassemia\\n')\n",
    "print('Thalassemia (thal-uh-SEE-me-uh) is an inherited blood disorder that causes your body to have less hemoglobin than normal. Hemoglobin enables red blood cells to carry oxygen')"
   ]
  },
  {
   "cell_type": "code",
   "execution_count": 25,
   "id": "67edd58f",
   "metadata": {},
   "outputs": [
    {
     "data": {
      "text/plain": [
       "Text(0.5, 1.0, 'Slope v/s Target\\n')"
      ]
     },
     "execution_count": 25,
     "metadata": {},
     "output_type": "execute_result"
    },
    {
     "data": {
      "image/png": "[encoded data removed]",
      "text/plain": [
       "<Figure size 432x288 with 1 Axes>"
      ]
     },
     "metadata": {},
     "output_type": "display_data"
    }
   ],
   "source": [
    "sns.countplot(data= df, x='slope',hue='target')\n",
    "plt.title('Slope v/s Target\\n')"
   ]
  },
  {
   "cell_type": "code",
   "execution_count": 26,
   "id": "33d8370c",
   "metadata": {},
   "outputs": [
    {
     "data": {
      "text/plain": [
       "Text(0.5, 1.0, 'exang v/s Thalassemia\\n')"
      ]
     },
     "execution_count": 26,
     "metadata": {},
     "output_type": "execute_result"
    },
    {
     "data": {
      "image/png": "[encoded data removed]",
      "text/plain": [
       "<Figure size 432x288 with 1 Axes>"
      ]
     },
     "metadata": {},
     "output_type": "display_data"
    }
   ],
   "source": [
    "sns.countplot(data= df, x='exang',hue='thal')\n",
    "plt.title('exang v/s Thalassemia\\n')"
   ]
  },
  {
   "cell_type": "code",
   "execution_count": 27,
   "id": "78e245b8",
   "metadata": {},
   "outputs": [
    {
     "data": {
      "text/plain": [
       "count    1025.000000\n",
       "mean        0.513171\n",
       "std         0.500070\n",
       "min         0.000000\n",
       "25%         0.000000\n",
       "50%         1.000000\n",
       "75%         1.000000\n",
       "max         1.000000\n",
       "Name: target, dtype: float64"
      ]
     },
     "execution_count": 27,
     "metadata": {},
     "output_type": "execute_result"
    }
   ],
   "source": [
    "df['target'].describe()"
   ]
  },
  {
   "cell_type": "code",
   "execution_count": 28,
   "id": "527d044a",
   "metadata": {},
   "outputs": [
    {
     "data": {
      "text/html": [
       "<style type=\"text/css\">\n",
       "#T_63ce3_row0_col0, #T_63ce3_row1_col0, #T_63ce3_row1_col1, #T_63ce3_row2_col0, #T_63ce3_row2_col1, #T_63ce3_row2_col5, #T_63ce3_row3_col0, #T_63ce3_row4_col0, #T_63ce3_row5_col0, #T_63ce3_row5_col1, #T_63ce3_row5_col5, #T_63ce3_row6_col0, #T_63ce3_row6_col1, #T_63ce3_row6_col5, #T_63ce3_row7_col0, #T_63ce3_row8_col0, #T_63ce3_row8_col1, #T_63ce3_row9_col0, #T_63ce3_row10_col0, #T_63ce3_row11_col0, #T_63ce3_row12_col0, #T_63ce3_row13_col0, #T_63ce3_row13_col1, #T_63ce3_row13_col2, #T_63ce3_row13_col5 {\n",
       "  background-color: #fff7f3;\n",
       "  color: #000000;\n",
       "}\n",
       "#T_63ce3_row0_col1 {\n",
       "  background-color: #fccbc6;\n",
       "  color: #000000;\n",
       "}\n",
       "#T_63ce3_row0_col2 {\n",
       "  background-color: #fdd9d6;\n",
       "  color: #000000;\n",
       "}\n",
       "#T_63ce3_row0_col5 {\n",
       "  background-color: #fcc9c4;\n",
       "  color: #000000;\n",
       "}\n",
       "#T_63ce3_row1_col2, #T_63ce3_row1_col5, #T_63ce3_row5_col2, #T_63ce3_row6_col2, #T_63ce3_row8_col2, #T_63ce3_row8_col5, #T_63ce3_row9_col1, #T_63ce3_row9_col5, #T_63ce3_row10_col1, #T_63ce3_row10_col2, #T_63ce3_row10_col5, #T_63ce3_row11_col1, #T_63ce3_row11_col5, #T_63ce3_row12_col1 {\n",
       "  background-color: #fff6f2;\n",
       "  color: #000000;\n",
       "}\n",
       "#T_63ce3_row2_col2 {\n",
       "  background-color: #fff4f0;\n",
       "  color: #000000;\n",
       "}\n",
       "#T_63ce3_row3_col1 {\n",
       "  background-color: #f05a9e;\n",
       "  color: #f1f1f1;\n",
       "}\n",
       "#T_63ce3_row3_col2 {\n",
       "  background-color: #faa0b5;\n",
       "  color: #000000;\n",
       "}\n",
       "#T_63ce3_row3_col5 {\n",
       "  background-color: #f35f9f;\n",
       "  color: #f1f1f1;\n",
       "}\n",
       "#T_63ce3_row4_col1, #T_63ce3_row4_col2, #T_63ce3_row4_col5 {\n",
       "  background-color: #49006a;\n",
       "  color: #f1f1f1;\n",
       "}\n",
       "#T_63ce3_row7_col1 {\n",
       "  background-color: #ec529d;\n",
       "  color: #f1f1f1;\n",
       "}\n",
       "#T_63ce3_row7_col2 {\n",
       "  background-color: #f87ca8;\n",
       "  color: #f1f1f1;\n",
       "}\n",
       "#T_63ce3_row7_col5 {\n",
       "  background-color: #e94b9c;\n",
       "  color: #f1f1f1;\n",
       "}\n",
       "#T_63ce3_row9_col2 {\n",
       "  background-color: #fff3ef;\n",
       "  color: #000000;\n",
       "}\n",
       "#T_63ce3_row11_col2 {\n",
       "  background-color: #fff3f0;\n",
       "  color: #000000;\n",
       "}\n",
       "#T_63ce3_row12_col2, #T_63ce3_row12_col5 {\n",
       "  background-color: #fff5f1;\n",
       "  color: #000000;\n",
       "}\n",
       "</style>\n",
       "<table id=\"T_63ce3\">\n",
       "  <thead>\n",
       "    <tr>\n",
       "      <th class=\"blank level0\" >&nbsp;</th>\n",
       "      <th id=\"T_63ce3_level0_col0\" class=\"col_heading level0 col0\" >count</th>\n",
       "      <th id=\"T_63ce3_level0_col1\" class=\"col_heading level0 col1\" >mean</th>\n",
       "      <th id=\"T_63ce3_level0_col2\" class=\"col_heading level0 col2\" >std</th>\n",
       "      <th id=\"T_63ce3_level0_col3\" class=\"col_heading level0 col3\" >min</th>\n",
       "      <th id=\"T_63ce3_level0_col4\" class=\"col_heading level0 col4\" >25%</th>\n",
       "      <th id=\"T_63ce3_level0_col5\" class=\"col_heading level0 col5\" >50%</th>\n",
       "      <th id=\"T_63ce3_level0_col6\" class=\"col_heading level0 col6\" >75%</th>\n",
       "      <th id=\"T_63ce3_level0_col7\" class=\"col_heading level0 col7\" >max</th>\n",
       "    </tr>\n",
       "  </thead>\n",
       "  <tbody>\n",
       "    <tr>\n",
       "      <th id=\"T_63ce3_level0_row0\" class=\"row_heading level0 row0\" >age</th>\n",
       "      <td id=\"T_63ce3_row0_col0\" class=\"data row0 col0\" >499.000000</td>\n",
       "      <td id=\"T_63ce3_row0_col1\" class=\"data row0 col1\" >56.569138</td>\n",
       "      <td id=\"T_63ce3_row0_col2\" class=\"data row0 col2\" >7.908153</td>\n",
       "      <td id=\"T_63ce3_row0_col3\" class=\"data row0 col3\" >35.000000</td>\n",
       "      <td id=\"T_63ce3_row0_col4\" class=\"data row0 col4\" >52.000000</td>\n",
       "      <td id=\"T_63ce3_row0_col5\" class=\"data row0 col5\" >58.000000</td>\n",
       "      <td id=\"T_63ce3_row0_col6\" class=\"data row0 col6\" >62.000000</td>\n",
       "      <td id=\"T_63ce3_row0_col7\" class=\"data row0 col7\" >77.000000</td>\n",
       "    </tr>\n",
       "    <tr>\n",
       "      <th id=\"T_63ce3_level0_row1\" class=\"row_heading level0 row1\" >sex</th>\n",
       "      <td id=\"T_63ce3_row1_col0\" class=\"data row1 col0\" >499.000000</td>\n",
       "      <td id=\"T_63ce3_row1_col1\" class=\"data row1 col1\" >0.827655</td>\n",
       "      <td id=\"T_63ce3_row1_col2\" class=\"data row1 col2\" >0.378059</td>\n",
       "      <td id=\"T_63ce3_row1_col3\" class=\"data row1 col3\" >0.000000</td>\n",
       "      <td id=\"T_63ce3_row1_col4\" class=\"data row1 col4\" >1.000000</td>\n",
       "      <td id=\"T_63ce3_row1_col5\" class=\"data row1 col5\" >1.000000</td>\n",
       "      <td id=\"T_63ce3_row1_col6\" class=\"data row1 col6\" >1.000000</td>\n",
       "      <td id=\"T_63ce3_row1_col7\" class=\"data row1 col7\" >1.000000</td>\n",
       "    </tr>\n",
       "    <tr>\n",
       "      <th id=\"T_63ce3_level0_row2\" class=\"row_heading level0 row2\" >cp</th>\n",
       "      <td id=\"T_63ce3_row2_col0\" class=\"data row2 col0\" >499.000000</td>\n",
       "      <td id=\"T_63ce3_row2_col1\" class=\"data row2 col1\" >0.482966</td>\n",
       "      <td id=\"T_63ce3_row2_col2\" class=\"data row2 col2\" >0.908024</td>\n",
       "      <td id=\"T_63ce3_row2_col3\" class=\"data row2 col3\" >0.000000</td>\n",
       "      <td id=\"T_63ce3_row2_col4\" class=\"data row2 col4\" >0.000000</td>\n",
       "      <td id=\"T_63ce3_row2_col5\" class=\"data row2 col5\" >0.000000</td>\n",
       "      <td id=\"T_63ce3_row2_col6\" class=\"data row2 col6\" >0.000000</td>\n",
       "      <td id=\"T_63ce3_row2_col7\" class=\"data row2 col7\" >3.000000</td>\n",
       "    </tr>\n",
       "    <tr>\n",
       "      <th id=\"T_63ce3_level0_row3\" class=\"row_heading level0 row3\" >trestbps</th>\n",
       "      <td id=\"T_63ce3_row3_col0\" class=\"data row3 col0\" >499.000000</td>\n",
       "      <td id=\"T_63ce3_row3_col1\" class=\"data row3 col1\" >134.106212</td>\n",
       "      <td id=\"T_63ce3_row3_col2\" class=\"data row3 col2\" >18.576736</td>\n",
       "      <td id=\"T_63ce3_row3_col3\" class=\"data row3 col3\" >100.000000</td>\n",
       "      <td id=\"T_63ce3_row3_col4\" class=\"data row3 col4\" >120.000000</td>\n",
       "      <td id=\"T_63ce3_row3_col5\" class=\"data row3 col5\" >130.000000</td>\n",
       "      <td id=\"T_63ce3_row3_col6\" class=\"data row3 col6\" >144.000000</td>\n",
       "      <td id=\"T_63ce3_row3_col7\" class=\"data row3 col7\" >200.000000</td>\n",
       "    </tr>\n",
       "    <tr>\n",
       "      <th id=\"T_63ce3_level0_row4\" class=\"row_heading level0 row4\" >chol</th>\n",
       "      <td id=\"T_63ce3_row4_col0\" class=\"data row4 col0\" >499.000000</td>\n",
       "      <td id=\"T_63ce3_row4_col1\" class=\"data row4 col1\" >251.292585</td>\n",
       "      <td id=\"T_63ce3_row4_col2\" class=\"data row4 col2\" >49.558924</td>\n",
       "      <td id=\"T_63ce3_row4_col3\" class=\"data row4 col3\" >131.000000</td>\n",
       "      <td id=\"T_63ce3_row4_col4\" class=\"data row4 col4\" >217.000000</td>\n",
       "      <td id=\"T_63ce3_row4_col5\" class=\"data row4 col5\" >249.000000</td>\n",
       "      <td id=\"T_63ce3_row4_col6\" class=\"data row4 col6\" >284.000000</td>\n",
       "      <td id=\"T_63ce3_row4_col7\" class=\"data row4 col7\" >409.000000</td>\n",
       "    </tr>\n",
       "    <tr>\n",
       "      <th id=\"T_63ce3_level0_row5\" class=\"row_heading level0 row5\" >fbs</th>\n",
       "      <td id=\"T_63ce3_row5_col0\" class=\"data row5 col0\" >499.000000</td>\n",
       "      <td id=\"T_63ce3_row5_col1\" class=\"data row5 col1\" >0.164329</td>\n",
       "      <td id=\"T_63ce3_row5_col2\" class=\"data row5 col2\" >0.370945</td>\n",
       "      <td id=\"T_63ce3_row5_col3\" class=\"data row5 col3\" >0.000000</td>\n",
       "      <td id=\"T_63ce3_row5_col4\" class=\"data row5 col4\" >0.000000</td>\n",
       "      <td id=\"T_63ce3_row5_col5\" class=\"data row5 col5\" >0.000000</td>\n",
       "      <td id=\"T_63ce3_row5_col6\" class=\"data row5 col6\" >0.000000</td>\n",
       "      <td id=\"T_63ce3_row5_col7\" class=\"data row5 col7\" >1.000000</td>\n",
       "    </tr>\n",
       "    <tr>\n",
       "      <th id=\"T_63ce3_level0_row6\" class=\"row_heading level0 row6\" >restecg</th>\n",
       "      <td id=\"T_63ce3_row6_col0\" class=\"data row6 col0\" >499.000000</td>\n",
       "      <td id=\"T_63ce3_row6_col1\" class=\"data row6 col1\" >0.456914</td>\n",
       "      <td id=\"T_63ce3_row6_col2\" class=\"data row6 col2\" >0.544825</td>\n",
       "      <td id=\"T_63ce3_row6_col3\" class=\"data row6 col3\" >0.000000</td>\n",
       "      <td id=\"T_63ce3_row6_col4\" class=\"data row6 col4\" >0.000000</td>\n",
       "      <td id=\"T_63ce3_row6_col5\" class=\"data row6 col5\" >0.000000</td>\n",
       "      <td id=\"T_63ce3_row6_col6\" class=\"data row6 col6\" >1.000000</td>\n",
       "      <td id=\"T_63ce3_row6_col7\" class=\"data row6 col7\" >2.000000</td>\n",
       "    </tr>\n",
       "    <tr>\n",
       "      <th id=\"T_63ce3_level0_row7\" class=\"row_heading level0 row7\" >thalach</th>\n",
       "      <td id=\"T_63ce3_row7_col0\" class=\"data row7 col0\" >499.000000</td>\n",
       "      <td id=\"T_63ce3_row7_col1\" class=\"data row7 col1\" >139.130261</td>\n",
       "      <td id=\"T_63ce3_row7_col2\" class=\"data row7 col2\" >22.565235</td>\n",
       "      <td id=\"T_63ce3_row7_col3\" class=\"data row7 col3\" >71.000000</td>\n",
       "      <td id=\"T_63ce3_row7_col4\" class=\"data row7 col4\" >125.000000</td>\n",
       "      <td id=\"T_63ce3_row7_col5\" class=\"data row7 col5\" >142.000000</td>\n",
       "      <td id=\"T_63ce3_row7_col6\" class=\"data row7 col6\" >156.000000</td>\n",
       "      <td id=\"T_63ce3_row7_col7\" class=\"data row7 col7\" >195.000000</td>\n",
       "    </tr>\n",
       "    <tr>\n",
       "      <th id=\"T_63ce3_level0_row8\" class=\"row_heading level0 row8\" >exang</th>\n",
       "      <td id=\"T_63ce3_row8_col0\" class=\"data row8 col0\" >499.000000</td>\n",
       "      <td id=\"T_63ce3_row8_col1\" class=\"data row8 col1\" >0.549098</td>\n",
       "      <td id=\"T_63ce3_row8_col2\" class=\"data row8 col2\" >0.498083</td>\n",
       "      <td id=\"T_63ce3_row8_col3\" class=\"data row8 col3\" >0.000000</td>\n",
       "      <td id=\"T_63ce3_row8_col4\" class=\"data row8 col4\" >0.000000</td>\n",
       "      <td id=\"T_63ce3_row8_col5\" class=\"data row8 col5\" >1.000000</td>\n",
       "      <td id=\"T_63ce3_row8_col6\" class=\"data row8 col6\" >1.000000</td>\n",
       "      <td id=\"T_63ce3_row8_col7\" class=\"data row8 col7\" >1.000000</td>\n",
       "    </tr>\n",
       "    <tr>\n",
       "      <th id=\"T_63ce3_level0_row9\" class=\"row_heading level0 row9\" >oldpeak</th>\n",
       "      <td id=\"T_63ce3_row9_col0\" class=\"data row9 col0\" >499.000000</td>\n",
       "      <td id=\"T_63ce3_row9_col1\" class=\"data row9 col1\" >1.600200</td>\n",
       "      <td id=\"T_63ce3_row9_col2\" class=\"data row9 col2\" >1.290956</td>\n",
       "      <td id=\"T_63ce3_row9_col3\" class=\"data row9 col3\" >0.000000</td>\n",
       "      <td id=\"T_63ce3_row9_col4\" class=\"data row9 col4\" >0.600000</td>\n",
       "      <td id=\"T_63ce3_row9_col5\" class=\"data row9 col5\" >1.400000</td>\n",
       "      <td id=\"T_63ce3_row9_col6\" class=\"data row9 col6\" >2.500000</td>\n",
       "      <td id=\"T_63ce3_row9_col7\" class=\"data row9 col7\" >6.200000</td>\n",
       "    </tr>\n",
       "    <tr>\n",
       "      <th id=\"T_63ce3_level0_row10\" class=\"row_heading level0 row10\" >slope</th>\n",
       "      <td id=\"T_63ce3_row10_col0\" class=\"data row10 col0\" >499.000000</td>\n",
       "      <td id=\"T_63ce3_row10_col1\" class=\"data row10 col1\" >1.166333</td>\n",
       "      <td id=\"T_63ce3_row10_col2\" class=\"data row10 col2\" >0.568932</td>\n",
       "      <td id=\"T_63ce3_row10_col3\" class=\"data row10 col3\" >0.000000</td>\n",
       "      <td id=\"T_63ce3_row10_col4\" class=\"data row10 col4\" >1.000000</td>\n",
       "      <td id=\"T_63ce3_row10_col5\" class=\"data row10 col5\" >1.000000</td>\n",
       "      <td id=\"T_63ce3_row10_col6\" class=\"data row10 col6\" >2.000000</td>\n",
       "      <td id=\"T_63ce3_row10_col7\" class=\"data row10 col7\" >2.000000</td>\n",
       "    </tr>\n",
       "    <tr>\n",
       "      <th id=\"T_63ce3_level0_row11\" class=\"row_heading level0 row11\" >ca</th>\n",
       "      <td id=\"T_63ce3_row11_col0\" class=\"data row11 col0\" >499.000000</td>\n",
       "      <td id=\"T_63ce3_row11_col1\" class=\"data row11 col1\" >1.158317</td>\n",
       "      <td id=\"T_63ce3_row11_col2\" class=\"data row11 col2\" >1.032108</td>\n",
       "      <td id=\"T_63ce3_row11_col3\" class=\"data row11 col3\" >0.000000</td>\n",
       "      <td id=\"T_63ce3_row11_col4\" class=\"data row11 col4\" >0.000000</td>\n",
       "      <td id=\"T_63ce3_row11_col5\" class=\"data row11 col5\" >1.000000</td>\n",
       "      <td id=\"T_63ce3_row11_col6\" class=\"data row11 col6\" >2.000000</td>\n",
       "      <td id=\"T_63ce3_row11_col7\" class=\"data row11 col7\" >4.000000</td>\n",
       "    </tr>\n",
       "    <tr>\n",
       "      <th id=\"T_63ce3_level0_row12\" class=\"row_heading level0 row12\" >thal</th>\n",
       "      <td id=\"T_63ce3_row12_col0\" class=\"data row12 col0\" >499.000000</td>\n",
       "      <td id=\"T_63ce3_row12_col1\" class=\"data row12 col1\" >2.539078</td>\n",
       "      <td id=\"T_63ce3_row12_col2\" class=\"data row12 col2\" >0.685460</td>\n",
       "      <td id=\"T_63ce3_row12_col3\" class=\"data row12 col3\" >0.000000</td>\n",
       "      <td id=\"T_63ce3_row12_col4\" class=\"data row12 col4\" >2.000000</td>\n",
       "      <td id=\"T_63ce3_row12_col5\" class=\"data row12 col5\" >3.000000</td>\n",
       "      <td id=\"T_63ce3_row12_col6\" class=\"data row12 col6\" >3.000000</td>\n",
       "      <td id=\"T_63ce3_row12_col7\" class=\"data row12 col7\" >3.000000</td>\n",
       "    </tr>\n",
       "    <tr>\n",
       "      <th id=\"T_63ce3_level0_row13\" class=\"row_heading level0 row13\" >target</th>\n",
       "      <td id=\"T_63ce3_row13_col0\" class=\"data row13 col0\" >499.000000</td>\n",
       "      <td id=\"T_63ce3_row13_col1\" class=\"data row13 col1\" >0.000000</td>\n",
       "      <td id=\"T_63ce3_row13_col2\" class=\"data row13 col2\" >0.000000</td>\n",
       "      <td id=\"T_63ce3_row13_col3\" class=\"data row13 col3\" >0.000000</td>\n",
       "      <td id=\"T_63ce3_row13_col4\" class=\"data row13 col4\" >0.000000</td>\n",
       "      <td id=\"T_63ce3_row13_col5\" class=\"data row13 col5\" >0.000000</td>\n",
       "      <td id=\"T_63ce3_row13_col6\" class=\"data row13 col6\" >0.000000</td>\n",
       "      <td id=\"T_63ce3_row13_col7\" class=\"data row13 col7\" >0.000000</td>\n",
       "    </tr>\n",
       "  </tbody>\n",
       "</table>\n"
      ],
      "text/plain": [
       "<pandas.io.formats.style.Styler at 0x7fb02ca746a0>"
      ]
     },
     "execution_count": 28,
     "metadata": {},
     "output_type": "execute_result"
    }
   ],
   "source": [
    "df[df['target']==0].describe().T.style.background_gradient(subset=['mean','std','50%','count'], cmap='RdPu')"
   ]
  },
  {
   "cell_type": "code",
   "execution_count": 29,
   "id": "921db497",
   "metadata": {},
   "outputs": [
    {
     "data": {
      "text/html": [
       "<style type=\"text/css\">\n",
       "#T_33afb_row0_col0, #T_33afb_row1_col0, #T_33afb_row1_col1, #T_33afb_row2_col0, #T_33afb_row3_col0, #T_33afb_row4_col0, #T_33afb_row5_col0, #T_33afb_row5_col1, #T_33afb_row5_col5, #T_33afb_row6_col0, #T_33afb_row6_col1, #T_33afb_row7_col0, #T_33afb_row8_col0, #T_33afb_row8_col1, #T_33afb_row8_col5, #T_33afb_row9_col0, #T_33afb_row9_col1, #T_33afb_row9_col5, #T_33afb_row10_col0, #T_33afb_row11_col0, #T_33afb_row11_col1, #T_33afb_row11_col5, #T_33afb_row12_col0, #T_33afb_row13_col0, #T_33afb_row13_col1, #T_33afb_row13_col2 {\n",
       "  background-color: #fff7f3;\n",
       "  color: #000000;\n",
       "}\n",
       "#T_33afb_row0_col1 {\n",
       "  background-color: #fcccc8;\n",
       "  color: #000000;\n",
       "}\n",
       "#T_33afb_row0_col2 {\n",
       "  background-color: #fdd4d0;\n",
       "  color: #000000;\n",
       "}\n",
       "#T_33afb_row0_col5 {\n",
       "  background-color: #fcccc7;\n",
       "  color: #000000;\n",
       "}\n",
       "#T_33afb_row1_col2, #T_33afb_row1_col5, #T_33afb_row2_col1, #T_33afb_row2_col5, #T_33afb_row5_col2, #T_33afb_row6_col2, #T_33afb_row6_col5, #T_33afb_row8_col2, #T_33afb_row10_col1, #T_33afb_row10_col2, #T_33afb_row10_col5, #T_33afb_row12_col1, #T_33afb_row12_col2, #T_33afb_row12_col5, #T_33afb_row13_col5 {\n",
       "  background-color: #fff6f2;\n",
       "  color: #000000;\n",
       "}\n",
       "#T_33afb_row2_col2, #T_33afb_row11_col2 {\n",
       "  background-color: #fff4f0;\n",
       "  color: #000000;\n",
       "}\n",
       "#T_33afb_row3_col1 {\n",
       "  background-color: #ef599e;\n",
       "  color: #f1f1f1;\n",
       "}\n",
       "#T_33afb_row3_col2 {\n",
       "  background-color: #fbb5bb;\n",
       "  color: #000000;\n",
       "}\n",
       "#T_33afb_row3_col5 {\n",
       "  background-color: #eb509c;\n",
       "  color: #f1f1f1;\n",
       "}\n",
       "#T_33afb_row4_col1, #T_33afb_row4_col2, #T_33afb_row4_col5 {\n",
       "  background-color: #49006a;\n",
       "  color: #f1f1f1;\n",
       "}\n",
       "#T_33afb_row7_col1 {\n",
       "  background-color: #d02690;\n",
       "  color: #f1f1f1;\n",
       "}\n",
       "#T_33afb_row7_col2 {\n",
       "  background-color: #faa3b6;\n",
       "  color: #000000;\n",
       "}\n",
       "#T_33afb_row7_col5 {\n",
       "  background-color: #c4198a;\n",
       "  color: #f1f1f1;\n",
       "}\n",
       "#T_33afb_row9_col2 {\n",
       "  background-color: #fff5f1;\n",
       "  color: #000000;\n",
       "}\n",
       "</style>\n",
       "<table id=\"T_33afb\">\n",
       "  <thead>\n",
       "    <tr>\n",
       "      <th class=\"blank level0\" >&nbsp;</th>\n",
       "      <th id=\"T_33afb_level0_col0\" class=\"col_heading level0 col0\" >count</th>\n",
       "      <th id=\"T_33afb_level0_col1\" class=\"col_heading level0 col1\" >mean</th>\n",
       "      <th id=\"T_33afb_level0_col2\" class=\"col_heading level0 col2\" >std</th>\n",
       "      <th id=\"T_33afb_level0_col3\" class=\"col_heading level0 col3\" >min</th>\n",
       "      <th id=\"T_33afb_level0_col4\" class=\"col_heading level0 col4\" >25%</th>\n",
       "      <th id=\"T_33afb_level0_col5\" class=\"col_heading level0 col5\" >50%</th>\n",
       "      <th id=\"T_33afb_level0_col6\" class=\"col_heading level0 col6\" >75%</th>\n",
       "      <th id=\"T_33afb_level0_col7\" class=\"col_heading level0 col7\" >max</th>\n",
       "    </tr>\n",
       "  </thead>\n",
       "  <tbody>\n",
       "    <tr>\n",
       "      <th id=\"T_33afb_level0_row0\" class=\"row_heading level0 row0\" >age</th>\n",
       "      <td id=\"T_33afb_row0_col0\" class=\"data row0 col0\" >526.000000</td>\n",
       "      <td id=\"T_33afb_row0_col1\" class=\"data row0 col1\" >52.408745</td>\n",
       "      <td id=\"T_33afb_row0_col2\" class=\"data row0 col2\" >9.631804</td>\n",
       "      <td id=\"T_33afb_row0_col3\" class=\"data row0 col3\" >29.000000</td>\n",
       "      <td id=\"T_33afb_row0_col4\" class=\"data row0 col4\" >44.000000</td>\n",
       "      <td id=\"T_33afb_row0_col5\" class=\"data row0 col5\" >52.000000</td>\n",
       "      <td id=\"T_33afb_row0_col6\" class=\"data row0 col6\" >59.000000</td>\n",
       "      <td id=\"T_33afb_row0_col7\" class=\"data row0 col7\" >76.000000</td>\n",
       "    </tr>\n",
       "    <tr>\n",
       "      <th id=\"T_33afb_level0_row1\" class=\"row_heading level0 row1\" >sex</th>\n",
       "      <td id=\"T_33afb_row1_col0\" class=\"data row1 col0\" >526.000000</td>\n",
       "      <td id=\"T_33afb_row1_col1\" class=\"data row1 col1\" >0.570342</td>\n",
       "      <td id=\"T_33afb_row1_col2\" class=\"data row1 col2\" >0.495498</td>\n",
       "      <td id=\"T_33afb_row1_col3\" class=\"data row1 col3\" >0.000000</td>\n",
       "      <td id=\"T_33afb_row1_col4\" class=\"data row1 col4\" >0.000000</td>\n",
       "      <td id=\"T_33afb_row1_col5\" class=\"data row1 col5\" >1.000000</td>\n",
       "      <td id=\"T_33afb_row1_col6\" class=\"data row1 col6\" >1.000000</td>\n",
       "      <td id=\"T_33afb_row1_col7\" class=\"data row1 col7\" >1.000000</td>\n",
       "    </tr>\n",
       "    <tr>\n",
       "      <th id=\"T_33afb_level0_row2\" class=\"row_heading level0 row2\" >cp</th>\n",
       "      <td id=\"T_33afb_row2_col0\" class=\"data row2 col0\" >526.000000</td>\n",
       "      <td id=\"T_33afb_row2_col1\" class=\"data row2 col1\" >1.378327</td>\n",
       "      <td id=\"T_33afb_row2_col2\" class=\"data row2 col2\" >0.945881</td>\n",
       "      <td id=\"T_33afb_row2_col3\" class=\"data row2 col3\" >0.000000</td>\n",
       "      <td id=\"T_33afb_row2_col4\" class=\"data row2 col4\" >1.000000</td>\n",
       "      <td id=\"T_33afb_row2_col5\" class=\"data row2 col5\" >2.000000</td>\n",
       "      <td id=\"T_33afb_row2_col6\" class=\"data row2 col6\" >2.000000</td>\n",
       "      <td id=\"T_33afb_row2_col7\" class=\"data row2 col7\" >3.000000</td>\n",
       "    </tr>\n",
       "    <tr>\n",
       "      <th id=\"T_33afb_level0_row3\" class=\"row_heading level0 row3\" >trestbps</th>\n",
       "      <td id=\"T_33afb_row3_col0\" class=\"data row3 col0\" >526.000000</td>\n",
       "      <td id=\"T_33afb_row3_col1\" class=\"data row3 col1\" >129.245247</td>\n",
       "      <td id=\"T_33afb_row3_col2\" class=\"data row3 col2\" >16.112188</td>\n",
       "      <td id=\"T_33afb_row3_col3\" class=\"data row3 col3\" >94.000000</td>\n",
       "      <td id=\"T_33afb_row3_col4\" class=\"data row3 col4\" >120.000000</td>\n",
       "      <td id=\"T_33afb_row3_col5\" class=\"data row3 col5\" >130.000000</td>\n",
       "      <td id=\"T_33afb_row3_col6\" class=\"data row3 col6\" >140.000000</td>\n",
       "      <td id=\"T_33afb_row3_col7\" class=\"data row3 col7\" >180.000000</td>\n",
       "    </tr>\n",
       "    <tr>\n",
       "      <th id=\"T_33afb_level0_row4\" class=\"row_heading level0 row4\" >chol</th>\n",
       "      <td id=\"T_33afb_row4_col0\" class=\"data row4 col0\" >526.000000</td>\n",
       "      <td id=\"T_33afb_row4_col1\" class=\"data row4 col1\" >240.979087</td>\n",
       "      <td id=\"T_33afb_row4_col2\" class=\"data row4 col2\" >53.010345</td>\n",
       "      <td id=\"T_33afb_row4_col3\" class=\"data row4 col3\" >126.000000</td>\n",
       "      <td id=\"T_33afb_row4_col4\" class=\"data row4 col4\" >208.000000</td>\n",
       "      <td id=\"T_33afb_row4_col5\" class=\"data row4 col5\" >234.000000</td>\n",
       "      <td id=\"T_33afb_row4_col6\" class=\"data row4 col6\" >265.750000</td>\n",
       "      <td id=\"T_33afb_row4_col7\" class=\"data row4 col7\" >564.000000</td>\n",
       "    </tr>\n",
       "    <tr>\n",
       "      <th id=\"T_33afb_level0_row5\" class=\"row_heading level0 row5\" >fbs</th>\n",
       "      <td id=\"T_33afb_row5_col0\" class=\"data row5 col0\" >526.000000</td>\n",
       "      <td id=\"T_33afb_row5_col1\" class=\"data row5 col1\" >0.134981</td>\n",
       "      <td id=\"T_33afb_row5_col2\" class=\"data row5 col2\" >0.342029</td>\n",
       "      <td id=\"T_33afb_row5_col3\" class=\"data row5 col3\" >0.000000</td>\n",
       "      <td id=\"T_33afb_row5_col4\" class=\"data row5 col4\" >0.000000</td>\n",
       "      <td id=\"T_33afb_row5_col5\" class=\"data row5 col5\" >0.000000</td>\n",
       "      <td id=\"T_33afb_row5_col6\" class=\"data row5 col6\" >0.000000</td>\n",
       "      <td id=\"T_33afb_row5_col7\" class=\"data row5 col7\" >1.000000</td>\n",
       "    </tr>\n",
       "    <tr>\n",
       "      <th id=\"T_33afb_level0_row6\" class=\"row_heading level0 row6\" >restecg</th>\n",
       "      <td id=\"T_33afb_row6_col0\" class=\"data row6 col0\" >526.000000</td>\n",
       "      <td id=\"T_33afb_row6_col1\" class=\"data row6 col1\" >0.598859</td>\n",
       "      <td id=\"T_33afb_row6_col2\" class=\"data row6 col2\" >0.502109</td>\n",
       "      <td id=\"T_33afb_row6_col3\" class=\"data row6 col3\" >0.000000</td>\n",
       "      <td id=\"T_33afb_row6_col4\" class=\"data row6 col4\" >0.000000</td>\n",
       "      <td id=\"T_33afb_row6_col5\" class=\"data row6 col5\" >1.000000</td>\n",
       "      <td id=\"T_33afb_row6_col6\" class=\"data row6 col6\" >1.000000</td>\n",
       "      <td id=\"T_33afb_row6_col7\" class=\"data row6 col7\" >2.000000</td>\n",
       "    </tr>\n",
       "    <tr>\n",
       "      <th id=\"T_33afb_level0_row7\" class=\"row_heading level0 row7\" >thalach</th>\n",
       "      <td id=\"T_33afb_row7_col0\" class=\"data row7 col0\" >526.000000</td>\n",
       "      <td id=\"T_33afb_row7_col1\" class=\"data row7 col1\" >158.585551</td>\n",
       "      <td id=\"T_33afb_row7_col2\" class=\"data row7 col2\" >19.096928</td>\n",
       "      <td id=\"T_33afb_row7_col3\" class=\"data row7 col3\" >96.000000</td>\n",
       "      <td id=\"T_33afb_row7_col4\" class=\"data row7 col4\" >149.000000</td>\n",
       "      <td id=\"T_33afb_row7_col5\" class=\"data row7 col5\" >161.500000</td>\n",
       "      <td id=\"T_33afb_row7_col6\" class=\"data row7 col6\" >172.000000</td>\n",
       "      <td id=\"T_33afb_row7_col7\" class=\"data row7 col7\" >202.000000</td>\n",
       "    </tr>\n",
       "    <tr>\n",
       "      <th id=\"T_33afb_level0_row8\" class=\"row_heading level0 row8\" >exang</th>\n",
       "      <td id=\"T_33afb_row8_col0\" class=\"data row8 col0\" >526.000000</td>\n",
       "      <td id=\"T_33afb_row8_col1\" class=\"data row8 col1\" >0.134981</td>\n",
       "      <td id=\"T_33afb_row8_col2\" class=\"data row8 col2\" >0.342029</td>\n",
       "      <td id=\"T_33afb_row8_col3\" class=\"data row8 col3\" >0.000000</td>\n",
       "      <td id=\"T_33afb_row8_col4\" class=\"data row8 col4\" >0.000000</td>\n",
       "      <td id=\"T_33afb_row8_col5\" class=\"data row8 col5\" >0.000000</td>\n",
       "      <td id=\"T_33afb_row8_col6\" class=\"data row8 col6\" >0.000000</td>\n",
       "      <td id=\"T_33afb_row8_col7\" class=\"data row8 col7\" >1.000000</td>\n",
       "    </tr>\n",
       "    <tr>\n",
       "      <th id=\"T_33afb_level0_row9\" class=\"row_heading level0 row9\" >oldpeak</th>\n",
       "      <td id=\"T_33afb_row9_col0\" class=\"data row9 col0\" >526.000000</td>\n",
       "      <td id=\"T_33afb_row9_col1\" class=\"data row9 col1\" >0.569962</td>\n",
       "      <td id=\"T_33afb_row9_col2\" class=\"data row9 col2\" >0.771079</td>\n",
       "      <td id=\"T_33afb_row9_col3\" class=\"data row9 col3\" >0.000000</td>\n",
       "      <td id=\"T_33afb_row9_col4\" class=\"data row9 col4\" >0.000000</td>\n",
       "      <td id=\"T_33afb_row9_col5\" class=\"data row9 col5\" >0.200000</td>\n",
       "      <td id=\"T_33afb_row9_col6\" class=\"data row9 col6\" >1.000000</td>\n",
       "      <td id=\"T_33afb_row9_col7\" class=\"data row9 col7\" >4.200000</td>\n",
       "    </tr>\n",
       "    <tr>\n",
       "      <th id=\"T_33afb_level0_row10\" class=\"row_heading level0 row10\" >slope</th>\n",
       "      <td id=\"T_33afb_row10_col0\" class=\"data row10 col0\" >526.000000</td>\n",
       "      <td id=\"T_33afb_row10_col1\" class=\"data row10 col1\" >1.593156</td>\n",
       "      <td id=\"T_33afb_row10_col2\" class=\"data row10 col2\" >0.590295</td>\n",
       "      <td id=\"T_33afb_row10_col3\" class=\"data row10 col3\" >0.000000</td>\n",
       "      <td id=\"T_33afb_row10_col4\" class=\"data row10 col4\" >1.000000</td>\n",
       "      <td id=\"T_33afb_row10_col5\" class=\"data row10 col5\" >2.000000</td>\n",
       "      <td id=\"T_33afb_row10_col6\" class=\"data row10 col6\" >2.000000</td>\n",
       "      <td id=\"T_33afb_row10_col7\" class=\"data row10 col7\" >2.000000</td>\n",
       "    </tr>\n",
       "    <tr>\n",
       "      <th id=\"T_33afb_level0_row11\" class=\"row_heading level0 row11\" >ca</th>\n",
       "      <td id=\"T_33afb_row11_col0\" class=\"data row11 col0\" >526.000000</td>\n",
       "      <td id=\"T_33afb_row11_col1\" class=\"data row11 col1\" >0.370722</td>\n",
       "      <td id=\"T_33afb_row11_col2\" class=\"data row11 col2\" >0.871462</td>\n",
       "      <td id=\"T_33afb_row11_col3\" class=\"data row11 col3\" >0.000000</td>\n",
       "      <td id=\"T_33afb_row11_col4\" class=\"data row11 col4\" >0.000000</td>\n",
       "      <td id=\"T_33afb_row11_col5\" class=\"data row11 col5\" >0.000000</td>\n",
       "      <td id=\"T_33afb_row11_col6\" class=\"data row11 col6\" >0.000000</td>\n",
       "      <td id=\"T_33afb_row11_col7\" class=\"data row11 col7\" >4.000000</td>\n",
       "    </tr>\n",
       "    <tr>\n",
       "      <th id=\"T_33afb_level0_row12\" class=\"row_heading level0 row12\" >thal</th>\n",
       "      <td id=\"T_33afb_row12_col0\" class=\"data row12 col0\" >526.000000</td>\n",
       "      <td id=\"T_33afb_row12_col1\" class=\"data row12 col1\" >2.119772</td>\n",
       "      <td id=\"T_33afb_row12_col2\" class=\"data row12 col2\" >0.468949</td>\n",
       "      <td id=\"T_33afb_row12_col3\" class=\"data row12 col3\" >0.000000</td>\n",
       "      <td id=\"T_33afb_row12_col4\" class=\"data row12 col4\" >2.000000</td>\n",
       "      <td id=\"T_33afb_row12_col5\" class=\"data row12 col5\" >2.000000</td>\n",
       "      <td id=\"T_33afb_row12_col6\" class=\"data row12 col6\" >2.000000</td>\n",
       "      <td id=\"T_33afb_row12_col7\" class=\"data row12 col7\" >3.000000</td>\n",
       "    </tr>\n",
       "    <tr>\n",
       "      <th id=\"T_33afb_level0_row13\" class=\"row_heading level0 row13\" >target</th>\n",
       "      <td id=\"T_33afb_row13_col0\" class=\"data row13 col0\" >526.000000</td>\n",
       "      <td id=\"T_33afb_row13_col1\" class=\"data row13 col1\" >1.000000</td>\n",
       "      <td id=\"T_33afb_row13_col2\" class=\"data row13 col2\" >0.000000</td>\n",
       "      <td id=\"T_33afb_row13_col3\" class=\"data row13 col3\" >1.000000</td>\n",
       "      <td id=\"T_33afb_row13_col4\" class=\"data row13 col4\" >1.000000</td>\n",
       "      <td id=\"T_33afb_row13_col5\" class=\"data row13 col5\" >1.000000</td>\n",
       "      <td id=\"T_33afb_row13_col6\" class=\"data row13 col6\" >1.000000</td>\n",
       "      <td id=\"T_33afb_row13_col7\" class=\"data row13 col7\" >1.000000</td>\n",
       "    </tr>\n",
       "  </tbody>\n",
       "</table>\n"
      ],
      "text/plain": [
       "<pandas.io.formats.style.Styler at 0x7fb02be79ca0>"
      ]
     },
     "execution_count": 29,
     "metadata": {},
     "output_type": "execute_result"
    }
   ],
   "source": [
    "df[df['target']==1].describe().T.style.background_gradient(subset=['mean','std','50%','count'], cmap='RdPu')"
   ]
  },
  {
   "cell_type": "code",
   "execution_count": 30,
   "id": "36fe13ca",
   "metadata": {},
   "outputs": [
    {
     "data": {
      "text/plain": [
       "-0.05277848219047285"
      ]
     },
     "execution_count": 30,
     "metadata": {},
     "output_type": "execute_result"
    }
   ],
   "source": [
    "df['target'].skew()"
   ]
  },
  {
   "cell_type": "code",
   "execution_count": 31,
   "id": "1ccb16ae",
   "metadata": {},
   "outputs": [
    {
     "data": {
      "text/plain": [
       "-2.0011228802510272"
      ]
     },
     "execution_count": 31,
     "metadata": {},
     "output_type": "execute_result"
    }
   ],
   "source": [
    "df['target'].kurtosis()"
   ]
  },
  {
   "cell_type": "markdown",
   "id": "74c4ba31",
   "metadata": {},
   "source": [
    "__4 .DATA ANALYSIS----FEATURE SELECTION__"
   ]
  },
  {
   "cell_type": "code",
   "execution_count": 32,
   "id": "f4b1c1f9",
   "metadata": {},
   "outputs": [],
   "source": [
    "x= df[['age','sex','cp','trestbps','chol','fbs','restecg','thalach','exang','oldpeak','slope','ca','thal']]"
   ]
  },
  {
   "cell_type": "code",
   "execution_count": 33,
   "id": "345d32e8",
   "metadata": {},
   "outputs": [],
   "source": [
    "y = df['target']"
   ]
  },
  {
   "cell_type": "markdown",
   "id": "502d7803",
   "metadata": {},
   "source": [
    "__5 .MODEL BUILDING__"
   ]
  },
  {
   "cell_type": "markdown",
   "id": "464c144c",
   "metadata": {},
   "source": [
    "__Random Forest__"
   ]
  },
  {
   "cell_type": "code",
   "execution_count": 34,
   "id": "b2e98382",
   "metadata": {},
   "outputs": [],
   "source": [
    "#splitting data"
   ]
  },
  {
   "cell_type": "code",
   "execution_count": 35,
   "id": "905ad38e",
   "metadata": {},
   "outputs": [],
   "source": [
    "from sklearn.model_selection import train_test_split\n",
    "x_train,x_test,y_train,y_test = train_test_split(x,y,train_size=0.5,random_state = None)"
   ]
  },
  {
   "cell_type": "code",
   "execution_count": 36,
   "id": "5de3570d",
   "metadata": {},
   "outputs": [
    {
     "name": "stdout",
     "output_type": "stream",
     "text": [
      "(512, 13) (513, 13) (512,) (513,)\n"
     ]
    }
   ],
   "source": [
    "print(x_train.shape,x_test.shape,y_train.shape,y_test.shape)"
   ]
  },
  {
   "cell_type": "code",
   "execution_count": 37,
   "id": "cf05c0d6",
   "metadata": {},
   "outputs": [],
   "source": [
    "###Balancing the Dataset"
   ]
  },
  {
   "cell_type": "code",
   "execution_count": 38,
   "id": "cfa51ff1",
   "metadata": {},
   "outputs": [],
   "source": [
    "from imblearn.over_sampling import SMOTE"
   ]
  },
  {
   "cell_type": "code",
   "execution_count": 39,
   "id": "a57fad17",
   "metadata": {},
   "outputs": [],
   "source": [
    "smote = SMOTE()"
   ]
  },
  {
   "cell_type": "code",
   "execution_count": 40,
   "id": "4e4d41ef",
   "metadata": {},
   "outputs": [],
   "source": [
    "x_train,y_train = smote.fit_resample(x_train,y_train)\n",
    "x_test,y_test = smote.fit_resample(x_test,y_test)"
   ]
  },
  {
   "cell_type": "code",
   "execution_count": 41,
   "id": "02931860",
   "metadata": {},
   "outputs": [
    {
     "name": "stdout",
     "output_type": "stream",
     "text": [
      "(534, 13) (562, 13) (534,) (562,)\n"
     ]
    }
   ],
   "source": [
    "print(x_train.shape,x_test.shape,y_train.shape,y_test.shape)"
   ]
  },
  {
   "cell_type": "code",
   "execution_count": 42,
   "id": "adeccf81",
   "metadata": {},
   "outputs": [
    {
     "data": {
      "text/plain": [
       "(534,)"
      ]
     },
     "execution_count": 42,
     "metadata": {},
     "output_type": "execute_result"
    }
   ],
   "source": [
    "x_train['sex'].shape"
   ]
  },
  {
   "cell_type": "markdown",
   "id": "36f427aa",
   "metadata": {},
   "source": [
    "__ONEHOTENCODING__"
   ]
  },
  {
   "cell_type": "code",
   "execution_count": 44,
   "id": "7c61cece",
   "metadata": {},
   "outputs": [],
   "source": [
    "from sklearn.preprocessing import OneHotEncoder\n",
    "ohe = OneHotEncoder(categories='auto', drop=None, sparse=False, dtype= 'float64')"
   ]
  },
  {
   "cell_type": "code",
   "execution_count": 45,
   "id": "cfebf44e",
   "metadata": {},
   "outputs": [],
   "source": [
    "df1= df[['cp','restecg','slope','ca','thal']]"
   ]
  },
  {
   "cell_type": "code",
   "execution_count": 46,
   "id": "ea788823",
   "metadata": {},
   "outputs": [],
   "source": [
    "df2 = ohe.fit_transform(df1)"
   ]
  },
  {
   "cell_type": "code",
   "execution_count": 47,
   "id": "5370e03e",
   "metadata": {},
   "outputs": [
    {
     "data": {
      "text/plain": [
       "array([[1., 0., 0., ..., 0., 0., 1.],\n",
       "       [1., 0., 0., ..., 0., 0., 1.],\n",
       "       [1., 0., 0., ..., 0., 0., 1.],\n",
       "       ...,\n",
       "       [1., 0., 0., ..., 0., 1., 0.],\n",
       "       [1., 0., 0., ..., 0., 1., 0.],\n",
       "       [1., 0., 0., ..., 0., 0., 1.]])"
      ]
     },
     "execution_count": 47,
     "metadata": {},
     "output_type": "execute_result"
    }
   ],
   "source": [
    "df2"
   ]
  },
  {
   "cell_type": "code",
   "execution_count": 48,
   "id": "884f2197",
   "metadata": {},
   "outputs": [
    {
     "data": {
      "text/plain": [
       "array(['x0_0', 'x0_1', 'x0_2', 'x0_3', 'x1_0', 'x1_1', 'x1_2', 'x2_0',\n",
       "       'x2_1', 'x2_2', 'x3_0', 'x3_1', 'x3_2', 'x3_3', 'x3_4', 'x4_0',\n",
       "       'x4_1', 'x4_2', 'x4_3'], dtype=object)"
      ]
     },
     "execution_count": 48,
     "metadata": {},
     "output_type": "execute_result"
    }
   ],
   "source": [
    "c = ohe.get_feature_names() # Gives us column index names\n",
    "c"
   ]
  },
  {
   "cell_type": "code",
   "execution_count": 49,
   "id": "d374a7ed",
   "metadata": {},
   "outputs": [],
   "source": [
    "df3 = pd.DataFrame(df2, columns = c)"
   ]
  },
  {
   "cell_type": "markdown",
   "id": "3102fe18",
   "metadata": {},
   "source": [
    "Merging OneHotEncoded Dataframe with normal data Frame"
   ]
  },
  {
   "cell_type": "code",
   "execution_count": 50,
   "id": "05c6f66c",
   "metadata": {},
   "outputs": [],
   "source": [
    "ohe_df = pd.concat([df,df3], axis=1)"
   ]
  },
  {
   "cell_type": "code",
   "execution_count": 51,
   "id": "2991aa87",
   "metadata": {},
   "outputs": [
    {
     "data": {
      "text/html": [
       "<div>\n",
       "<style scoped>\n",
       "    .dataframe tbody tr th:only-of-type {\n",
       "        vertical-align: middle;\n",
       "    }\n",
       "\n",
       "    .dataframe tbody tr th {\n",
       "        vertical-align: top;\n",
       "    }\n",
       "\n",
       "    .dataframe thead th {\n",
       "        text-align: right;\n",
       "    }\n",
       "</style>\n",
       "<table border=\"1\" class=\"dataframe\">\n",
       "  <thead>\n",
       "    <tr style=\"text-align: right;\">\n",
       "      <th></th>\n",
       "      <th>age</th>\n",
       "      <th>sex</th>\n",
       "      <th>cp</th>\n",
       "      <th>trestbps</th>\n",
       "      <th>chol</th>\n",
       "      <th>fbs</th>\n",
       "      <th>restecg</th>\n",
       "      <th>thalach</th>\n",
       "      <th>exang</th>\n",
       "      <th>oldpeak</th>\n",
       "      <th>...</th>\n",
       "      <th>x2_2</th>\n",
       "      <th>x3_0</th>\n",
       "      <th>x3_1</th>\n",
       "      <th>x3_2</th>\n",
       "      <th>x3_3</th>\n",
       "      <th>x3_4</th>\n",
       "      <th>x4_0</th>\n",
       "      <th>x4_1</th>\n",
       "      <th>x4_2</th>\n",
       "      <th>x4_3</th>\n",
       "    </tr>\n",
       "  </thead>\n",
       "  <tbody>\n",
       "    <tr>\n",
       "      <th>0</th>\n",
       "      <td>52</td>\n",
       "      <td>1</td>\n",
       "      <td>0</td>\n",
       "      <td>125</td>\n",
       "      <td>212</td>\n",
       "      <td>0</td>\n",
       "      <td>1</td>\n",
       "      <td>168</td>\n",
       "      <td>0</td>\n",
       "      <td>1.0</td>\n",
       "      <td>...</td>\n",
       "      <td>1.0</td>\n",
       "      <td>0.0</td>\n",
       "      <td>0.0</td>\n",
       "      <td>1.0</td>\n",
       "      <td>0.0</td>\n",
       "      <td>0.0</td>\n",
       "      <td>0.0</td>\n",
       "      <td>0.0</td>\n",
       "      <td>0.0</td>\n",
       "      <td>1.0</td>\n",
       "    </tr>\n",
       "    <tr>\n",
       "      <th>1</th>\n",
       "      <td>53</td>\n",
       "      <td>1</td>\n",
       "      <td>0</td>\n",
       "      <td>140</td>\n",
       "      <td>203</td>\n",
       "      <td>1</td>\n",
       "      <td>0</td>\n",
       "      <td>155</td>\n",
       "      <td>1</td>\n",
       "      <td>3.1</td>\n",
       "      <td>...</td>\n",
       "      <td>0.0</td>\n",
       "      <td>1.0</td>\n",
       "      <td>0.0</td>\n",
       "      <td>0.0</td>\n",
       "      <td>0.0</td>\n",
       "      <td>0.0</td>\n",
       "      <td>0.0</td>\n",
       "      <td>0.0</td>\n",
       "      <td>0.0</td>\n",
       "      <td>1.0</td>\n",
       "    </tr>\n",
       "    <tr>\n",
       "      <th>2</th>\n",
       "      <td>70</td>\n",
       "      <td>1</td>\n",
       "      <td>0</td>\n",
       "      <td>145</td>\n",
       "      <td>174</td>\n",
       "      <td>0</td>\n",
       "      <td>1</td>\n",
       "      <td>125</td>\n",
       "      <td>1</td>\n",
       "      <td>2.6</td>\n",
       "      <td>...</td>\n",
       "      <td>0.0</td>\n",
       "      <td>1.0</td>\n",
       "      <td>0.0</td>\n",
       "      <td>0.0</td>\n",
       "      <td>0.0</td>\n",
       "      <td>0.0</td>\n",
       "      <td>0.0</td>\n",
       "      <td>0.0</td>\n",
       "      <td>0.0</td>\n",
       "      <td>1.0</td>\n",
       "    </tr>\n",
       "    <tr>\n",
       "      <th>3</th>\n",
       "      <td>61</td>\n",
       "      <td>1</td>\n",
       "      <td>0</td>\n",
       "      <td>148</td>\n",
       "      <td>203</td>\n",
       "      <td>0</td>\n",
       "      <td>1</td>\n",
       "      <td>161</td>\n",
       "      <td>0</td>\n",
       "      <td>0.0</td>\n",
       "      <td>...</td>\n",
       "      <td>1.0</td>\n",
       "      <td>0.0</td>\n",
       "      <td>1.0</td>\n",
       "      <td>0.0</td>\n",
       "      <td>0.0</td>\n",
       "      <td>0.0</td>\n",
       "      <td>0.0</td>\n",
       "      <td>0.0</td>\n",
       "      <td>0.0</td>\n",
       "      <td>1.0</td>\n",
       "    </tr>\n",
       "    <tr>\n",
       "      <th>4</th>\n",
       "      <td>62</td>\n",
       "      <td>0</td>\n",
       "      <td>0</td>\n",
       "      <td>138</td>\n",
       "      <td>294</td>\n",
       "      <td>1</td>\n",
       "      <td>1</td>\n",
       "      <td>106</td>\n",
       "      <td>0</td>\n",
       "      <td>1.9</td>\n",
       "      <td>...</td>\n",
       "      <td>0.0</td>\n",
       "      <td>0.0</td>\n",
       "      <td>0.0</td>\n",
       "      <td>0.0</td>\n",
       "      <td>1.0</td>\n",
       "      <td>0.0</td>\n",
       "      <td>0.0</td>\n",
       "      <td>0.0</td>\n",
       "      <td>1.0</td>\n",
       "      <td>0.0</td>\n",
       "    </tr>\n",
       "    <tr>\n",
       "      <th>...</th>\n",
       "      <td>...</td>\n",
       "      <td>...</td>\n",
       "      <td>...</td>\n",
       "      <td>...</td>\n",
       "      <td>...</td>\n",
       "      <td>...</td>\n",
       "      <td>...</td>\n",
       "      <td>...</td>\n",
       "      <td>...</td>\n",
       "      <td>...</td>\n",
       "      <td>...</td>\n",
       "      <td>...</td>\n",
       "      <td>...</td>\n",
       "      <td>...</td>\n",
       "      <td>...</td>\n",
       "      <td>...</td>\n",
       "      <td>...</td>\n",
       "      <td>...</td>\n",
       "      <td>...</td>\n",
       "      <td>...</td>\n",
       "      <td>...</td>\n",
       "    </tr>\n",
       "    <tr>\n",
       "      <th>1020</th>\n",
       "      <td>59</td>\n",
       "      <td>1</td>\n",
       "      <td>1</td>\n",
       "      <td>140</td>\n",
       "      <td>221</td>\n",
       "      <td>0</td>\n",
       "      <td>1</td>\n",
       "      <td>164</td>\n",
       "      <td>1</td>\n",
       "      <td>0.0</td>\n",
       "      <td>...</td>\n",
       "      <td>1.0</td>\n",
       "      <td>1.0</td>\n",
       "      <td>0.0</td>\n",
       "      <td>0.0</td>\n",
       "      <td>0.0</td>\n",
       "      <td>0.0</td>\n",
       "      <td>0.0</td>\n",
       "      <td>0.0</td>\n",
       "      <td>1.0</td>\n",
       "      <td>0.0</td>\n",
       "    </tr>\n",
       "    <tr>\n",
       "      <th>1021</th>\n",
       "      <td>60</td>\n",
       "      <td>1</td>\n",
       "      <td>0</td>\n",
       "      <td>125</td>\n",
       "      <td>258</td>\n",
       "      <td>0</td>\n",
       "      <td>0</td>\n",
       "      <td>141</td>\n",
       "      <td>1</td>\n",
       "      <td>2.8</td>\n",
       "      <td>...</td>\n",
       "      <td>0.0</td>\n",
       "      <td>0.0</td>\n",
       "      <td>1.0</td>\n",
       "      <td>0.0</td>\n",
       "      <td>0.0</td>\n",
       "      <td>0.0</td>\n",
       "      <td>0.0</td>\n",
       "      <td>0.0</td>\n",
       "      <td>0.0</td>\n",
       "      <td>1.0</td>\n",
       "    </tr>\n",
       "    <tr>\n",
       "      <th>1022</th>\n",
       "      <td>47</td>\n",
       "      <td>1</td>\n",
       "      <td>0</td>\n",
       "      <td>110</td>\n",
       "      <td>275</td>\n",
       "      <td>0</td>\n",
       "      <td>0</td>\n",
       "      <td>118</td>\n",
       "      <td>1</td>\n",
       "      <td>1.0</td>\n",
       "      <td>...</td>\n",
       "      <td>0.0</td>\n",
       "      <td>0.0</td>\n",
       "      <td>1.0</td>\n",
       "      <td>0.0</td>\n",
       "      <td>0.0</td>\n",
       "      <td>0.0</td>\n",
       "      <td>0.0</td>\n",
       "      <td>0.0</td>\n",
       "      <td>1.0</td>\n",
       "      <td>0.0</td>\n",
       "    </tr>\n",
       "    <tr>\n",
       "      <th>1023</th>\n",
       "      <td>50</td>\n",
       "      <td>0</td>\n",
       "      <td>0</td>\n",
       "      <td>110</td>\n",
       "      <td>254</td>\n",
       "      <td>0</td>\n",
       "      <td>0</td>\n",
       "      <td>159</td>\n",
       "      <td>0</td>\n",
       "      <td>0.0</td>\n",
       "      <td>...</td>\n",
       "      <td>1.0</td>\n",
       "      <td>1.0</td>\n",
       "      <td>0.0</td>\n",
       "      <td>0.0</td>\n",
       "      <td>0.0</td>\n",
       "      <td>0.0</td>\n",
       "      <td>0.0</td>\n",
       "      <td>0.0</td>\n",
       "      <td>1.0</td>\n",
       "      <td>0.0</td>\n",
       "    </tr>\n",
       "    <tr>\n",
       "      <th>1024</th>\n",
       "      <td>54</td>\n",
       "      <td>1</td>\n",
       "      <td>0</td>\n",
       "      <td>120</td>\n",
       "      <td>188</td>\n",
       "      <td>0</td>\n",
       "      <td>1</td>\n",
       "      <td>113</td>\n",
       "      <td>0</td>\n",
       "      <td>1.4</td>\n",
       "      <td>...</td>\n",
       "      <td>0.0</td>\n",
       "      <td>0.0</td>\n",
       "      <td>1.0</td>\n",
       "      <td>0.0</td>\n",
       "      <td>0.0</td>\n",
       "      <td>0.0</td>\n",
       "      <td>0.0</td>\n",
       "      <td>0.0</td>\n",
       "      <td>0.0</td>\n",
       "      <td>1.0</td>\n",
       "    </tr>\n",
       "  </tbody>\n",
       "</table>\n",
       "<p>1025 rows × 33 columns</p>\n",
       "</div>"
      ],
      "text/plain": [
       "      age  sex  cp  trestbps  chol  fbs  restecg  thalach  exang  oldpeak  \\\n",
       "0      52    1   0       125   212    0        1      168      0      1.0   \n",
       "1      53    1   0       140   203    1        0      155      1      3.1   \n",
       "2      70    1   0       145   174    0        1      125      1      2.6   \n",
       "3      61    1   0       148   203    0        1      161      0      0.0   \n",
       "4      62    0   0       138   294    1        1      106      0      1.9   \n",
       "...   ...  ...  ..       ...   ...  ...      ...      ...    ...      ...   \n",
       "1020   59    1   1       140   221    0        1      164      1      0.0   \n",
       "1021   60    1   0       125   258    0        0      141      1      2.8   \n",
       "1022   47    1   0       110   275    0        0      118      1      1.0   \n",
       "1023   50    0   0       110   254    0        0      159      0      0.0   \n",
       "1024   54    1   0       120   188    0        1      113      0      1.4   \n",
       "\n",
       "      ...  x2_2  x3_0  x3_1  x3_2  x3_3  x3_4  x4_0  x4_1  x4_2  x4_3  \n",
       "0     ...   1.0   0.0   0.0   1.0   0.0   0.0   0.0   0.0   0.0   1.0  \n",
       "1     ...   0.0   1.0   0.0   0.0   0.0   0.0   0.0   0.0   0.0   1.0  \n",
       "2     ...   0.0   1.0   0.0   0.0   0.0   0.0   0.0   0.0   0.0   1.0  \n",
       "3     ...   1.0   0.0   1.0   0.0   0.0   0.0   0.0   0.0   0.0   1.0  \n",
       "4     ...   0.0   0.0   0.0   0.0   1.0   0.0   0.0   0.0   1.0   0.0  \n",
       "...   ...   ...   ...   ...   ...   ...   ...   ...   ...   ...   ...  \n",
       "1020  ...   1.0   1.0   0.0   0.0   0.0   0.0   0.0   0.0   1.0   0.0  \n",
       "1021  ...   0.0   0.0   1.0   0.0   0.0   0.0   0.0   0.0   0.0   1.0  \n",
       "1022  ...   0.0   0.0   1.0   0.0   0.0   0.0   0.0   0.0   1.0   0.0  \n",
       "1023  ...   1.0   1.0   0.0   0.0   0.0   0.0   0.0   0.0   1.0   0.0  \n",
       "1024  ...   0.0   0.0   1.0   0.0   0.0   0.0   0.0   0.0   0.0   1.0  \n",
       "\n",
       "[1025 rows x 33 columns]"
      ]
     },
     "execution_count": 51,
     "metadata": {},
     "output_type": "execute_result"
    }
   ],
   "source": [
    "ohe_df"
   ]
  },
  {
   "cell_type": "markdown",
   "id": "8b1a9fb0",
   "metadata": {},
   "source": [
    "__FEATURE SCALING__"
   ]
  },
  {
   "cell_type": "code",
   "execution_count": 53,
   "id": "8aa2de03",
   "metadata": {},
   "outputs": [],
   "source": [
    "from sklearn.preprocessing import MinMaxScaler\n",
    "scale = MinMaxScaler()"
   ]
  },
  {
   "cell_type": "code",
   "execution_count": 54,
   "id": "6b771f35",
   "metadata": {},
   "outputs": [],
   "source": [
    "ohe_df[\"age\"] = scale.fit_transform(np.array(ohe_df[\"age\"]).reshape(-1,1))"
   ]
  },
  {
   "cell_type": "code",
   "execution_count": 55,
   "id": "c026411a",
   "metadata": {},
   "outputs": [],
   "source": [
    "ohe_df[\"trestbps\"] = scale.fit_transform(np.array(ohe_df[\"trestbps\"]).reshape(-1,1))"
   ]
  },
  {
   "cell_type": "code",
   "execution_count": 56,
   "id": "658bee59",
   "metadata": {},
   "outputs": [],
   "source": [
    "ohe_df[\"chol\"] = scale.fit_transform(np.array(ohe_df[\"chol\"]).reshape(-1,1))"
   ]
  },
  {
   "cell_type": "code",
   "execution_count": 57,
   "id": "b8131f83",
   "metadata": {},
   "outputs": [],
   "source": [
    "ohe_df[\"thalach\"] = scale.fit_transform(np.array(ohe_df[\"thalach\"]).reshape(-1,1))"
   ]
  },
  {
   "cell_type": "code",
   "execution_count": 58,
   "id": "de0d12c7",
   "metadata": {},
   "outputs": [],
   "source": [
    "ohe_df[\"oldpeak\"] = scale.fit_transform(np.array(ohe_df[\"oldpeak\"]).reshape(-1,1))"
   ]
  },
  {
   "cell_type": "code",
   "execution_count": 59,
   "id": "24722d95",
   "metadata": {},
   "outputs": [
    {
     "data": {
      "text/html": [
       "<div>\n",
       "<style scoped>\n",
       "    .dataframe tbody tr th:only-of-type {\n",
       "        vertical-align: middle;\n",
       "    }\n",
       "\n",
       "    .dataframe tbody tr th {\n",
       "        vertical-align: top;\n",
       "    }\n",
       "\n",
       "    .dataframe thead th {\n",
       "        text-align: right;\n",
       "    }\n",
       "</style>\n",
       "<table border=\"1\" class=\"dataframe\">\n",
       "  <thead>\n",
       "    <tr style=\"text-align: right;\">\n",
       "      <th></th>\n",
       "      <th>age</th>\n",
       "      <th>sex</th>\n",
       "      <th>cp</th>\n",
       "      <th>trestbps</th>\n",
       "      <th>chol</th>\n",
       "      <th>fbs</th>\n",
       "      <th>restecg</th>\n",
       "      <th>thalach</th>\n",
       "      <th>exang</th>\n",
       "      <th>oldpeak</th>\n",
       "      <th>...</th>\n",
       "      <th>x2_2</th>\n",
       "      <th>x3_0</th>\n",
       "      <th>x3_1</th>\n",
       "      <th>x3_2</th>\n",
       "      <th>x3_3</th>\n",
       "      <th>x3_4</th>\n",
       "      <th>x4_0</th>\n",
       "      <th>x4_1</th>\n",
       "      <th>x4_2</th>\n",
       "      <th>x4_3</th>\n",
       "    </tr>\n",
       "  </thead>\n",
       "  <tbody>\n",
       "    <tr>\n",
       "      <th>0</th>\n",
       "      <td>0.479167</td>\n",
       "      <td>1</td>\n",
       "      <td>0</td>\n",
       "      <td>0.292453</td>\n",
       "      <td>0.196347</td>\n",
       "      <td>0</td>\n",
       "      <td>1</td>\n",
       "      <td>0.740458</td>\n",
       "      <td>0</td>\n",
       "      <td>0.161290</td>\n",
       "      <td>...</td>\n",
       "      <td>1.0</td>\n",
       "      <td>0.0</td>\n",
       "      <td>0.0</td>\n",
       "      <td>1.0</td>\n",
       "      <td>0.0</td>\n",
       "      <td>0.0</td>\n",
       "      <td>0.0</td>\n",
       "      <td>0.0</td>\n",
       "      <td>0.0</td>\n",
       "      <td>1.0</td>\n",
       "    </tr>\n",
       "    <tr>\n",
       "      <th>1</th>\n",
       "      <td>0.500000</td>\n",
       "      <td>1</td>\n",
       "      <td>0</td>\n",
       "      <td>0.433962</td>\n",
       "      <td>0.175799</td>\n",
       "      <td>1</td>\n",
       "      <td>0</td>\n",
       "      <td>0.641221</td>\n",
       "      <td>1</td>\n",
       "      <td>0.500000</td>\n",
       "      <td>...</td>\n",
       "      <td>0.0</td>\n",
       "      <td>1.0</td>\n",
       "      <td>0.0</td>\n",
       "      <td>0.0</td>\n",
       "      <td>0.0</td>\n",
       "      <td>0.0</td>\n",
       "      <td>0.0</td>\n",
       "      <td>0.0</td>\n",
       "      <td>0.0</td>\n",
       "      <td>1.0</td>\n",
       "    </tr>\n",
       "    <tr>\n",
       "      <th>2</th>\n",
       "      <td>0.854167</td>\n",
       "      <td>1</td>\n",
       "      <td>0</td>\n",
       "      <td>0.481132</td>\n",
       "      <td>0.109589</td>\n",
       "      <td>0</td>\n",
       "      <td>1</td>\n",
       "      <td>0.412214</td>\n",
       "      <td>1</td>\n",
       "      <td>0.419355</td>\n",
       "      <td>...</td>\n",
       "      <td>0.0</td>\n",
       "      <td>1.0</td>\n",
       "      <td>0.0</td>\n",
       "      <td>0.0</td>\n",
       "      <td>0.0</td>\n",
       "      <td>0.0</td>\n",
       "      <td>0.0</td>\n",
       "      <td>0.0</td>\n",
       "      <td>0.0</td>\n",
       "      <td>1.0</td>\n",
       "    </tr>\n",
       "    <tr>\n",
       "      <th>3</th>\n",
       "      <td>0.666667</td>\n",
       "      <td>1</td>\n",
       "      <td>0</td>\n",
       "      <td>0.509434</td>\n",
       "      <td>0.175799</td>\n",
       "      <td>0</td>\n",
       "      <td>1</td>\n",
       "      <td>0.687023</td>\n",
       "      <td>0</td>\n",
       "      <td>0.000000</td>\n",
       "      <td>...</td>\n",
       "      <td>1.0</td>\n",
       "      <td>0.0</td>\n",
       "      <td>1.0</td>\n",
       "      <td>0.0</td>\n",
       "      <td>0.0</td>\n",
       "      <td>0.0</td>\n",
       "      <td>0.0</td>\n",
       "      <td>0.0</td>\n",
       "      <td>0.0</td>\n",
       "      <td>1.0</td>\n",
       "    </tr>\n",
       "    <tr>\n",
       "      <th>4</th>\n",
       "      <td>0.687500</td>\n",
       "      <td>0</td>\n",
       "      <td>0</td>\n",
       "      <td>0.415094</td>\n",
       "      <td>0.383562</td>\n",
       "      <td>1</td>\n",
       "      <td>1</td>\n",
       "      <td>0.267176</td>\n",
       "      <td>0</td>\n",
       "      <td>0.306452</td>\n",
       "      <td>...</td>\n",
       "      <td>0.0</td>\n",
       "      <td>0.0</td>\n",
       "      <td>0.0</td>\n",
       "      <td>0.0</td>\n",
       "      <td>1.0</td>\n",
       "      <td>0.0</td>\n",
       "      <td>0.0</td>\n",
       "      <td>0.0</td>\n",
       "      <td>1.0</td>\n",
       "      <td>0.0</td>\n",
       "    </tr>\n",
       "    <tr>\n",
       "      <th>...</th>\n",
       "      <td>...</td>\n",
       "      <td>...</td>\n",
       "      <td>...</td>\n",
       "      <td>...</td>\n",
       "      <td>...</td>\n",
       "      <td>...</td>\n",
       "      <td>...</td>\n",
       "      <td>...</td>\n",
       "      <td>...</td>\n",
       "      <td>...</td>\n",
       "      <td>...</td>\n",
       "      <td>...</td>\n",
       "      <td>...</td>\n",
       "      <td>...</td>\n",
       "      <td>...</td>\n",
       "      <td>...</td>\n",
       "      <td>...</td>\n",
       "      <td>...</td>\n",
       "      <td>...</td>\n",
       "      <td>...</td>\n",
       "      <td>...</td>\n",
       "    </tr>\n",
       "    <tr>\n",
       "      <th>1020</th>\n",
       "      <td>0.625000</td>\n",
       "      <td>1</td>\n",
       "      <td>1</td>\n",
       "      <td>0.433962</td>\n",
       "      <td>0.216895</td>\n",
       "      <td>0</td>\n",
       "      <td>1</td>\n",
       "      <td>0.709924</td>\n",
       "      <td>1</td>\n",
       "      <td>0.000000</td>\n",
       "      <td>...</td>\n",
       "      <td>1.0</td>\n",
       "      <td>1.0</td>\n",
       "      <td>0.0</td>\n",
       "      <td>0.0</td>\n",
       "      <td>0.0</td>\n",
       "      <td>0.0</td>\n",
       "      <td>0.0</td>\n",
       "      <td>0.0</td>\n",
       "      <td>1.0</td>\n",
       "      <td>0.0</td>\n",
       "    </tr>\n",
       "    <tr>\n",
       "      <th>1021</th>\n",
       "      <td>0.645833</td>\n",
       "      <td>1</td>\n",
       "      <td>0</td>\n",
       "      <td>0.292453</td>\n",
       "      <td>0.301370</td>\n",
       "      <td>0</td>\n",
       "      <td>0</td>\n",
       "      <td>0.534351</td>\n",
       "      <td>1</td>\n",
       "      <td>0.451613</td>\n",
       "      <td>...</td>\n",
       "      <td>0.0</td>\n",
       "      <td>0.0</td>\n",
       "      <td>1.0</td>\n",
       "      <td>0.0</td>\n",
       "      <td>0.0</td>\n",
       "      <td>0.0</td>\n",
       "      <td>0.0</td>\n",
       "      <td>0.0</td>\n",
       "      <td>0.0</td>\n",
       "      <td>1.0</td>\n",
       "    </tr>\n",
       "    <tr>\n",
       "      <th>1022</th>\n",
       "      <td>0.375000</td>\n",
       "      <td>1</td>\n",
       "      <td>0</td>\n",
       "      <td>0.150943</td>\n",
       "      <td>0.340183</td>\n",
       "      <td>0</td>\n",
       "      <td>0</td>\n",
       "      <td>0.358779</td>\n",
       "      <td>1</td>\n",
       "      <td>0.161290</td>\n",
       "      <td>...</td>\n",
       "      <td>0.0</td>\n",
       "      <td>0.0</td>\n",
       "      <td>1.0</td>\n",
       "      <td>0.0</td>\n",
       "      <td>0.0</td>\n",
       "      <td>0.0</td>\n",
       "      <td>0.0</td>\n",
       "      <td>0.0</td>\n",
       "      <td>1.0</td>\n",
       "      <td>0.0</td>\n",
       "    </tr>\n",
       "    <tr>\n",
       "      <th>1023</th>\n",
       "      <td>0.437500</td>\n",
       "      <td>0</td>\n",
       "      <td>0</td>\n",
       "      <td>0.150943</td>\n",
       "      <td>0.292237</td>\n",
       "      <td>0</td>\n",
       "      <td>0</td>\n",
       "      <td>0.671756</td>\n",
       "      <td>0</td>\n",
       "      <td>0.000000</td>\n",
       "      <td>...</td>\n",
       "      <td>1.0</td>\n",
       "      <td>1.0</td>\n",
       "      <td>0.0</td>\n",
       "      <td>0.0</td>\n",
       "      <td>0.0</td>\n",
       "      <td>0.0</td>\n",
       "      <td>0.0</td>\n",
       "      <td>0.0</td>\n",
       "      <td>1.0</td>\n",
       "      <td>0.0</td>\n",
       "    </tr>\n",
       "    <tr>\n",
       "      <th>1024</th>\n",
       "      <td>0.520833</td>\n",
       "      <td>1</td>\n",
       "      <td>0</td>\n",
       "      <td>0.245283</td>\n",
       "      <td>0.141553</td>\n",
       "      <td>0</td>\n",
       "      <td>1</td>\n",
       "      <td>0.320611</td>\n",
       "      <td>0</td>\n",
       "      <td>0.225806</td>\n",
       "      <td>...</td>\n",
       "      <td>0.0</td>\n",
       "      <td>0.0</td>\n",
       "      <td>1.0</td>\n",
       "      <td>0.0</td>\n",
       "      <td>0.0</td>\n",
       "      <td>0.0</td>\n",
       "      <td>0.0</td>\n",
       "      <td>0.0</td>\n",
       "      <td>0.0</td>\n",
       "      <td>1.0</td>\n",
       "    </tr>\n",
       "  </tbody>\n",
       "</table>\n",
       "<p>1025 rows × 33 columns</p>\n",
       "</div>"
      ],
      "text/plain": [
       "           age  sex  cp  trestbps      chol  fbs  restecg   thalach  exang  \\\n",
       "0     0.479167    1   0  0.292453  0.196347    0        1  0.740458      0   \n",
       "1     0.500000    1   0  0.433962  0.175799    1        0  0.641221      1   \n",
       "2     0.854167    1   0  0.481132  0.109589    0        1  0.412214      1   \n",
       "3     0.666667    1   0  0.509434  0.175799    0        1  0.687023      0   \n",
       "4     0.687500    0   0  0.415094  0.383562    1        1  0.267176      0   \n",
       "...        ...  ...  ..       ...       ...  ...      ...       ...    ...   \n",
       "1020  0.625000    1   1  0.433962  0.216895    0        1  0.709924      1   \n",
       "1021  0.645833    1   0  0.292453  0.301370    0        0  0.534351      1   \n",
       "1022  0.375000    1   0  0.150943  0.340183    0        0  0.358779      1   \n",
       "1023  0.437500    0   0  0.150943  0.292237    0        0  0.671756      0   \n",
       "1024  0.520833    1   0  0.245283  0.141553    0        1  0.320611      0   \n",
       "\n",
       "       oldpeak  ...  x2_2  x3_0  x3_1  x3_2  x3_3  x3_4  x4_0  x4_1  x4_2  \\\n",
       "0     0.161290  ...   1.0   0.0   0.0   1.0   0.0   0.0   0.0   0.0   0.0   \n",
       "1     0.500000  ...   0.0   1.0   0.0   0.0   0.0   0.0   0.0   0.0   0.0   \n",
       "2     0.419355  ...   0.0   1.0   0.0   0.0   0.0   0.0   0.0   0.0   0.0   \n",
       "3     0.000000  ...   1.0   0.0   1.0   0.0   0.0   0.0   0.0   0.0   0.0   \n",
       "4     0.306452  ...   0.0   0.0   0.0   0.0   1.0   0.0   0.0   0.0   1.0   \n",
       "...        ...  ...   ...   ...   ...   ...   ...   ...   ...   ...   ...   \n",
       "1020  0.000000  ...   1.0   1.0   0.0   0.0   0.0   0.0   0.0   0.0   1.0   \n",
       "1021  0.451613  ...   0.0   0.0   1.0   0.0   0.0   0.0   0.0   0.0   0.0   \n",
       "1022  0.161290  ...   0.0   0.0   1.0   0.0   0.0   0.0   0.0   0.0   1.0   \n",
       "1023  0.000000  ...   1.0   1.0   0.0   0.0   0.0   0.0   0.0   0.0   1.0   \n",
       "1024  0.225806  ...   0.0   0.0   1.0   0.0   0.0   0.0   0.0   0.0   0.0   \n",
       "\n",
       "      x4_3  \n",
       "0      1.0  \n",
       "1      1.0  \n",
       "2      1.0  \n",
       "3      1.0  \n",
       "4      0.0  \n",
       "...    ...  \n",
       "1020   0.0  \n",
       "1021   1.0  \n",
       "1022   0.0  \n",
       "1023   0.0  \n",
       "1024   1.0  \n",
       "\n",
       "[1025 rows x 33 columns]"
      ]
     },
     "execution_count": 59,
     "metadata": {},
     "output_type": "execute_result"
    }
   ],
   "source": [
    "ohe_df\n"
   ]
  },
  {
   "cell_type": "markdown",
   "id": "5f075ca5",
   "metadata": {},
   "source": [
    "#fit the model\n",
    "\n",
    "class sklearn.ensemble.RandomForestClassifier(n_estimators=100, *, criterion='gini', max_depth=None, min_samples_split=2, min_samples_leaf=1, min_weight_fraction_leaf=0.0, max_features='sqrt', max_leaf_nodes=None, min_impurity_decrease=0.0, bootstrap=True, oob_score=False, n_jobs=None, random_state=None, verbose=0, warm_start=False, class_weight=None, ccp_alpha=0.0, max_samples=None)[source]\n"
   ]
  },
  {
   "cell_type": "code",
   "execution_count": 60,
   "id": "3eacddda",
   "metadata": {},
   "outputs": [],
   "source": [
    "from sklearn.ensemble import RandomForestClassifier"
   ]
  },
  {
   "cell_type": "code",
   "execution_count": 61,
   "id": "eb99b1cf",
   "metadata": {},
   "outputs": [],
   "source": [
    "regressor=RandomForestClassifier()"
   ]
  },
  {
   "cell_type": "code",
   "execution_count": 62,
   "id": "16caf645",
   "metadata": {},
   "outputs": [
    {
     "data": {
      "text/html": [
       "<style>#sk-container-id-1 {color: black;background-color: white;}#sk-container-id-1 pre{padding: 0;}#sk-container-id-1 div.sk-toggleable {background-color: white;}#sk-container-id-1 label.sk-toggleable__label {cursor: pointer;display: block;width: 100%;margin-bottom: 0;padding: 0.3em;box-sizing: border-box;text-align: center;}#sk-container-id-1 label.sk-toggleable__label-arrow:before {content: \"▸\";float: left;margin-right: 0.25em;color: #696969;}#sk-container-id-1 label.sk-toggleable__label-arrow:hover:before {color: black;}#sk-container-id-1 div.sk-estimator:hover label.sk-toggleable__label-arrow:before {color: black;}#sk-container-id-1 div.sk-toggleable__content {max-height: 0;max-width: 0;overflow: hidden;text-align: left;background-color: #f0f8ff;}#sk-container-id-1 div.sk-toggleable__content pre {margin: 0.2em;color: black;border-radius: 0.25em;background-color: #f0f8ff;}#sk-container-id-1 input.sk-toggleable__control:checked~div.sk-toggleable__content {max-height: 200px;max-width: 100%;overflow: auto;}#sk-container-id-1 input.sk-toggleable__control:checked~label.sk-toggleable__label-arrow:before {content: \"▾\";}#sk-container-id-1 div.sk-estimator input.sk-toggleable__control:checked~label.sk-toggleable__label {background-color: #d4ebff;}#sk-container-id-1 div.sk-label input.sk-toggleable__control:checked~label.sk-toggleable__label {background-color: #d4ebff;}#sk-container-id-1 input.sk-hidden--visually {border: 0;clip: rect(1px 1px 1px 1px);clip: rect(1px, 1px, 1px, 1px);height: 1px;margin: -1px;overflow: hidden;padding: 0;position: absolute;width: 1px;}#sk-container-id-1 div.sk-estimator {font-family: monospace;background-color: #f0f8ff;border: 1px dotted black;border-radius: 0.25em;box-sizing: border-box;margin-bottom: 0.5em;}#sk-container-id-1 div.sk-estimator:hover {background-color: #d4ebff;}#sk-container-id-1 div.sk-parallel-item::after {content: \"\";width: 100%;border-bottom: 1px solid gray;flex-grow: 1;}#sk-container-id-1 div.sk-label:hover label.sk-toggleable__label {background-color: #d4ebff;}#sk-container-id-1 div.sk-serial::before {content: \"\";position: absolute;border-left: 1px solid gray;box-sizing: border-box;top: 0;bottom: 0;left: 50%;z-index: 0;}#sk-container-id-1 div.sk-serial {display: flex;flex-direction: column;align-items: center;background-color: white;padding-right: 0.2em;padding-left: 0.2em;position: relative;}#sk-container-id-1 div.sk-item {position: relative;z-index: 1;}#sk-container-id-1 div.sk-parallel {display: flex;align-items: stretch;justify-content: center;background-color: white;position: relative;}#sk-container-id-1 div.sk-item::before, #sk-container-id-1 div.sk-parallel-item::before {content: \"\";position: absolute;border-left: 1px solid gray;box-sizing: border-box;top: 0;bottom: 0;left: 50%;z-index: -1;}#sk-container-id-1 div.sk-parallel-item {display: flex;flex-direction: column;z-index: 1;position: relative;background-color: white;}#sk-container-id-1 div.sk-parallel-item:first-child::after {align-self: flex-end;width: 50%;}#sk-container-id-1 div.sk-parallel-item:last-child::after {align-self: flex-start;width: 50%;}#sk-container-id-1 div.sk-parallel-item:only-child::after {width: 0;}#sk-container-id-1 div.sk-dashed-wrapped {border: 1px dashed gray;margin: 0 0.4em 0.5em 0.4em;box-sizing: border-box;padding-bottom: 0.4em;background-color: white;}#sk-container-id-1 div.sk-label label {font-family: monospace;font-weight: bold;display: inline-block;line-height: 1.2em;}#sk-container-id-1 div.sk-label-container {text-align: center;}#sk-container-id-1 div.sk-container {/* jupyter's `normalize.less` sets `[hidden] { display: none; }` but bootstrap.min.css set `[hidden] { display: none !important; }` so we also need the `!important` here to be able to override the default hidden behavior on the sphinx rendered scikit-learn.org. See: https://github.com/scikit-learn/scikit-learn/issues/21755 */display: inline-block !important;position: relative;}#sk-container-id-1 div.sk-text-repr-fallback {display: none;}</style><div id=\"sk-container-id-1\" class=\"sk-top-container\"><div class=\"sk-text-repr-fallback\"><pre>RandomForestClassifier()</pre><b>In a Jupyter environment, please rerun this cell to show the HTML representation or trust the notebook. <br />On GitHub, the HTML representation is unable to render, please try loading this page with nbviewer.org.</b></div><div class=\"sk-container\" hidden><div class=\"sk-item\"><div class=\"sk-estimator sk-toggleable\"><input class=\"sk-toggleable__control sk-hidden--visually\" id=\"sk-estimator-id-1\" type=\"checkbox\" checked><label for=\"sk-estimator-id-1\" class=\"sk-toggleable__label sk-toggleable__label-arrow\">RandomForestClassifier</label><div class=\"sk-toggleable__content\"><pre>RandomForestClassifier()</pre></div></div></div></div></div>"
      ],
      "text/plain": [
       "RandomForestClassifier()"
      ]
     },
     "execution_count": 62,
     "metadata": {},
     "output_type": "execute_result"
    }
   ],
   "source": [
    "regressor.fit(x_train,y_train)"
   ]
  },
  {
   "cell_type": "code",
   "execution_count": 63,
   "id": "3ddaa116",
   "metadata": {},
   "outputs": [],
   "source": [
    "#prediction"
   ]
  },
  {
   "cell_type": "code",
   "execution_count": 64,
   "id": "0c102195",
   "metadata": {},
   "outputs": [],
   "source": [
    "y_pred = regressor.predict(x_test)"
   ]
  },
  {
   "cell_type": "code",
   "execution_count": 65,
   "id": "4415a111",
   "metadata": {},
   "outputs": [
    {
     "data": {
      "text/plain": [
       "array([0, 0, 0, 0, 0, 1, 0, 1, 1, 1, 1, 0, 1, 1, 1, 1, 0, 0, 0, 1, 1, 1,\n",
       "       1, 1, 1, 0, 1, 0, 0, 1, 1, 0, 0, 0, 1, 1, 1, 1, 0, 1, 1, 1, 0, 1,\n",
       "       0, 1, 1, 0, 1, 0, 1, 1, 1, 0, 1, 0, 0, 0, 1, 1, 1, 1, 1, 1, 0, 1,\n",
       "       1, 1, 0, 0, 0, 1, 1, 1, 1, 0, 1, 0, 1, 1, 1, 1, 0, 0, 0, 0, 0, 0,\n",
       "       1, 1, 1, 0, 0, 0, 0, 0, 0, 0, 0, 1, 1, 0, 1, 1, 1, 0, 0, 0, 0, 1,\n",
       "       1, 1, 0, 1, 1, 1, 0, 1, 0, 0, 0, 1, 1, 0, 1, 0, 0, 1, 1, 1, 0, 1,\n",
       "       0, 0, 1, 0, 0, 0, 1, 0, 0, 0, 1, 1, 1, 0, 0, 1, 1, 1, 0, 1, 0, 1,\n",
       "       1, 0, 1, 1, 1, 1, 0, 1, 0, 1, 1, 1, 1, 0, 0, 1, 1, 0, 1, 1, 1, 0,\n",
       "       1, 1, 1, 1, 1, 1, 1, 0, 0, 0, 1, 0, 0, 1, 0, 0, 1, 1, 0, 1, 0, 0,\n",
       "       1, 1, 1, 1, 0, 0, 0, 0, 1, 1, 0, 0, 0, 0, 0, 0, 1, 1, 1, 0, 1, 0,\n",
       "       1, 1, 0, 0, 1, 0, 1, 1, 0, 1, 0, 0, 0, 0, 1, 1, 1, 0, 0, 1, 1, 0,\n",
       "       1, 1, 1, 0, 0, 1, 1, 0, 1, 0, 1, 1, 1, 0, 1, 1, 0, 1, 1, 1, 1, 0,\n",
       "       0, 1, 1, 0, 0, 0, 1, 0, 0, 1, 1, 0, 1, 1, 1, 1, 1, 0, 1, 1, 0, 1,\n",
       "       1, 1, 1, 0, 1, 1, 1, 1, 0, 1, 1, 1, 0, 1, 0, 1, 1, 0, 1, 0, 1, 1,\n",
       "       1, 0, 0, 1, 1, 1, 0, 1, 1, 1, 0, 0, 1, 1, 1, 0, 1, 0, 1, 1, 1, 0,\n",
       "       1, 0, 0, 1, 1, 0, 0, 0, 0, 0, 0, 0, 0, 0, 0, 1, 1, 1, 1, 1, 1, 1,\n",
       "       0, 0, 0, 1, 0, 0, 1, 0, 0, 1, 1, 1, 0, 0, 0, 1, 0, 0, 0, 0, 0, 0,\n",
       "       0, 1, 1, 1, 0, 1, 1, 1, 1, 1, 1, 1, 1, 1, 1, 1, 1, 0, 0, 1, 0, 1,\n",
       "       0, 0, 1, 0, 0, 0, 1, 1, 0, 1, 0, 0, 0, 1, 0, 0, 0, 1, 1, 1, 0, 0,\n",
       "       1, 1, 0, 1, 1, 1, 1, 1, 0, 1, 1, 0, 0, 1, 1, 1, 0, 0, 0, 0, 0, 1,\n",
       "       0, 0, 0, 1, 0, 0, 1, 1, 1, 0, 0, 1, 0, 1, 1, 1, 1, 1, 0, 1, 1, 1,\n",
       "       1, 0, 0, 1, 1, 0, 1, 1, 0, 0, 0, 1, 1, 1, 1, 0, 1, 1, 1, 0, 1, 1,\n",
       "       0, 0, 1, 0, 1, 0, 0, 1, 1, 1, 0, 0, 0, 1, 0, 1, 1, 0, 0, 0, 0, 1,\n",
       "       1, 0, 1, 1, 0, 0, 0, 0, 0, 1, 0, 0, 0, 1, 0, 1, 0, 0, 0, 0, 0, 0,\n",
       "       0, 0, 0, 0, 0, 0, 0, 1, 0, 0, 0, 0, 1, 0, 0, 1, 0, 1, 0, 1, 1, 0,\n",
       "       0, 1, 0, 1, 0, 0, 0, 0, 0, 1, 0, 1])"
      ]
     },
     "execution_count": 65,
     "metadata": {},
     "output_type": "execute_result"
    }
   ],
   "source": [
    "y_pred"
   ]
  },
  {
   "cell_type": "markdown",
   "id": "69f407e5",
   "metadata": {},
   "source": [
    "__Model Evaluation__"
   ]
  },
  {
   "cell_type": "code",
   "execution_count": 67,
   "id": "fdcfca29",
   "metadata": {},
   "outputs": [],
   "source": [
    "from sklearn.metrics import accuracy_score"
   ]
  },
  {
   "cell_type": "code",
   "execution_count": 68,
   "id": "9f862ce1",
   "metadata": {},
   "outputs": [],
   "source": [
    "accuracy=accuracy_score(y_test,y_pred)"
   ]
  },
  {
   "cell_type": "code",
   "execution_count": 69,
   "id": "57ab2a05",
   "metadata": {},
   "outputs": [
    {
     "data": {
      "text/plain": [
       "0.9501779359430605"
      ]
     },
     "execution_count": 69,
     "metadata": {},
     "output_type": "execute_result"
    }
   ],
   "source": [
    "accuracy"
   ]
  },
  {
   "cell_type": "code",
   "execution_count": 70,
   "id": "bb836ebd",
   "metadata": {},
   "outputs": [
    {
     "name": "stdout",
     "output_type": "stream",
     "text": [
      "              precision    recall  f1-score   support\n",
      "\n",
      "           0       0.97      0.93      0.95       281\n",
      "           1       0.93      0.98      0.95       281\n",
      "\n",
      "    accuracy                           0.95       562\n",
      "   macro avg       0.95      0.95      0.95       562\n",
      "weighted avg       0.95      0.95      0.95       562\n",
      "\n"
     ]
    }
   ],
   "source": [
    "from sklearn.metrics import classification_report\n",
    "print(classification_report(y_test,y_pred))"
   ]
  },
  {
   "cell_type": "markdown",
   "id": "c4caf6b2",
   "metadata": {},
   "source": [
    " The classification report of the model shows that 95% prediction of absence of heart disease was predicted correct and 98% of presence of heart disease was predicted correct"
   ]
  },
  {
   "cell_type": "code",
   "execution_count": 71,
   "id": "27c5b99c",
   "metadata": {},
   "outputs": [
    {
     "name": "stdout",
     "output_type": "stream",
     "text": [
      "[[260  21]\n",
      " [  7 274]]\n"
     ]
    },
    {
     "data": {
      "text/plain": [
       "<AxesSubplot:>"
      ]
     },
     "execution_count": 71,
     "metadata": {},
     "output_type": "execute_result"
    },
    {
     "data": {
      "image/png": "[encoded data removed]",
      "text/plain": [
       "<Figure size 432x288 with 2 Axes>"
      ]
     },
     "metadata": {},
     "output_type": "display_data"
    }
   ],
   "source": [
    "from sklearn.metrics import confusion_matrix\n",
    "print(confusion_matrix(y_test,y_pred))\n",
    "sns.heatmap(confusion_matrix(y_test,y_pred),annot=True)"
   ]
  },
  {
   "cell_type": "markdown",
   "id": "215c5ac8",
   "metadata": {},
   "source": [
    "__CROSS VALIDATION__"
   ]
  },
  {
   "cell_type": "code",
   "execution_count": 73,
   "id": "348cf065",
   "metadata": {},
   "outputs": [],
   "source": [
    "from sklearn.model_selection import StratifiedKFold\n",
    "from sklearn.model_selection import cross_val_score"
   ]
  },
  {
   "cell_type": "code",
   "execution_count": 74,
   "id": "559cb1d6",
   "metadata": {},
   "outputs": [],
   "source": [
    "skf= StratifiedKFold(n_splits=10,shuffle=True,random_state=None)"
   ]
  },
  {
   "cell_type": "code",
   "execution_count": 75,
   "id": "fc120476",
   "metadata": {},
   "outputs": [],
   "source": [
    "rf_cv_score =cross_val_score(regressor,x,y,cv=skf)"
   ]
  },
  {
   "cell_type": "code",
   "execution_count": 76,
   "id": "b960790c",
   "metadata": {},
   "outputs": [
    {
     "data": {
      "text/plain": [
       "array([1., 1., 1., 1., 1., 1., 1., 1., 1., 1.])"
      ]
     },
     "execution_count": 76,
     "metadata": {},
     "output_type": "execute_result"
    }
   ],
   "source": [
    "rf_cv_score"
   ]
  },
  {
   "cell_type": "code",
   "execution_count": 77,
   "id": "2d1d2859",
   "metadata": {},
   "outputs": [
    {
     "data": {
      "text/plain": [
       "1.0"
      ]
     },
     "execution_count": 77,
     "metadata": {},
     "output_type": "execute_result"
    }
   ],
   "source": [
    "rf_cv_score_mean = rf_cv_score.mean()\n",
    "rf_cv_score_mean"
   ]
  },
  {
   "cell_type": "code",
   "execution_count": 78,
   "id": "5fb11057",
   "metadata": {},
   "outputs": [],
   "source": [
    "rf_cv_score_std = rf_cv_score.std()"
   ]
  },
  {
   "cell_type": "code",
   "execution_count": 79,
   "id": "d0c077c2",
   "metadata": {},
   "outputs": [
    {
     "data": {
      "text/plain": [
       "0.0"
      ]
     },
     "execution_count": 79,
     "metadata": {},
     "output_type": "execute_result"
    }
   ],
   "source": [
    "rf_cv_score_std "
   ]
  },
  {
   "cell_type": "code",
   "execution_count": 80,
   "id": "39cef2b9",
   "metadata": {},
   "outputs": [],
   "source": [
    "#REAL TIME PREDICTION"
   ]
  },
  {
   "cell_type": "code",
   "execution_count": 81,
   "id": "2aaafd25",
   "metadata": {},
   "outputs": [
    {
     "data": {
      "text/plain": [
       "['regressor.pkl']"
      ]
     },
     "execution_count": 81,
     "metadata": {},
     "output_type": "execute_result"
    }
   ],
   "source": [
    "import joblib\n",
    "joblib.dump(regressor,\"regressor.pkl\")"
   ]
  },
  {
   "cell_type": "code",
   "execution_count": 82,
   "id": "02d2c591",
   "metadata": {},
   "outputs": [
    {
     "data": {
      "text/html": [
       "<div>\n",
       "<style scoped>\n",
       "    .dataframe tbody tr th:only-of-type {\n",
       "        vertical-align: middle;\n",
       "    }\n",
       "\n",
       "    .dataframe tbody tr th {\n",
       "        vertical-align: top;\n",
       "    }\n",
       "\n",
       "    .dataframe thead th {\n",
       "        text-align: right;\n",
       "    }\n",
       "</style>\n",
       "<table border=\"1\" class=\"dataframe\">\n",
       "  <thead>\n",
       "    <tr style=\"text-align: right;\">\n",
       "      <th></th>\n",
       "      <th>age</th>\n",
       "      <th>sex</th>\n",
       "      <th>cp</th>\n",
       "      <th>trestbps</th>\n",
       "      <th>chol</th>\n",
       "      <th>fbs</th>\n",
       "      <th>restecg</th>\n",
       "      <th>thalach</th>\n",
       "      <th>exang</th>\n",
       "      <th>oldpeak</th>\n",
       "      <th>slope</th>\n",
       "      <th>ca</th>\n",
       "      <th>thal</th>\n",
       "    </tr>\n",
       "  </thead>\n",
       "  <tbody>\n",
       "    <tr>\n",
       "      <th>0</th>\n",
       "      <td>52</td>\n",
       "      <td>1</td>\n",
       "      <td>0</td>\n",
       "      <td>125</td>\n",
       "      <td>212</td>\n",
       "      <td>0</td>\n",
       "      <td>1</td>\n",
       "      <td>168</td>\n",
       "      <td>0</td>\n",
       "      <td>1.0</td>\n",
       "      <td>2</td>\n",
       "      <td>2</td>\n",
       "      <td>3</td>\n",
       "    </tr>\n",
       "  </tbody>\n",
       "</table>\n",
       "</div>"
      ],
      "text/plain": [
       "   age  sex  cp  trestbps  chol  fbs  restecg  thalach  exang  oldpeak  slope  \\\n",
       "0   52    1   0       125   212    0        1      168      0      1.0      2   \n",
       "\n",
       "   ca  thal  \n",
       "0   2     3  "
      ]
     },
     "execution_count": 82,
     "metadata": {},
     "output_type": "execute_result"
    }
   ],
   "source": [
    "final = x.head(1)\n",
    "final"
   ]
  },
  {
   "cell_type": "code",
   "execution_count": 83,
   "id": "c0110655",
   "metadata": {},
   "outputs": [],
   "source": [
    "finaltest= joblib.load(\"regressor.pkl\")"
   ]
  },
  {
   "cell_type": "code",
   "execution_count": 84,
   "id": "4cb41998",
   "metadata": {},
   "outputs": [
    {
     "data": {
      "text/plain": [
       "array([0])"
      ]
     },
     "execution_count": 84,
     "metadata": {},
     "output_type": "execute_result"
    }
   ],
   "source": [
    "finaltest.predict(final)"
   ]
  },
  {
   "cell_type": "code",
   "execution_count": null,
   "id": "a9027d88",
   "metadata": {},
   "outputs": [],
   "source": []
  }
 ],
 "metadata": {
  "kernelspec": {
   "display_name": "Python 3 (ipykernel)",
   "language": "python",
   "name": "python3"
  },
  "language_info": {
   "codemirror_mode": {
    "name": "ipython",
    "version": 3
   },
   "file_extension": ".py",
   "mimetype": "text/x-python",
   "name": "python",
   "nbconvert_exporter": "python",
   "pygments_lexer": "ipython3",
   "version": "3.9.12"
  }
 },
 "nbformat": 4,
 "nbformat_minor": 5
}
